{
 "cells": [
  {
   "cell_type": "markdown",
   "metadata": {
    "colab_type": "text",
    "id": "Q8X8xDwS6vgS"
   },
   "source": [
    "# Breast Cancer Classification"
   ]
  },
  {
   "cell_type": "markdown",
   "metadata": {},
   "source": [
    "This project aimed to compare the different classification models and find which type of classification method provided the best accuracy, and best suits the data set. The types of classification used are: logistic regression, k-nearest neighbors, support vector regression, kernal svm, decision tree regression, and random forest regression.\n",
    "This project includes data preprocessing, basic visualization, splitting the dataset into training and testing data to overcome overfitting, creating several regression models, and comparing the accuracy of all models."
   ]
  },
  {
   "cell_type": "markdown",
   "metadata": {},
   "source": [
    "## Setting Working Directory"
   ]
  },
  {
   "cell_type": "code",
   "execution_count": 1,
   "metadata": {},
   "outputs": [],
   "source": [
    "from os import chdir\n",
    "\n",
    "chdir(r\"G:\\My Drive\\Udemy\\Project - Breast Cancer Classification\")"
   ]
  },
  {
   "cell_type": "markdown",
   "metadata": {
    "colab_type": "text",
    "id": "PEGG4I6n60cM"
   },
   "source": [
    "## Importing the libraries"
   ]
  },
  {
   "cell_type": "code",
   "execution_count": 2,
   "metadata": {
    "colab": {},
    "colab_type": "code",
    "id": "D4b029YC7C-y"
   },
   "outputs": [],
   "source": [
    "import numpy as np\n",
    "import matplotlib.pyplot as plt\n",
    "import pandas as pd\n",
    "import warnings\n",
    "\n",
    "warnings.filterwarnings('ignore')\n",
    "plt.style.use('ggplot')"
   ]
  },
  {
   "cell_type": "markdown",
   "metadata": {
    "colab_type": "text",
    "id": "Aa536pRY7Eq5"
   },
   "source": [
    "## Importing the dataset"
   ]
  },
  {
   "cell_type": "markdown",
   "metadata": {},
   "source": [
    "The data file is a .DATA file."
   ]
  },
  {
   "cell_type": "code",
   "execution_count": 3,
   "metadata": {},
   "outputs": [],
   "source": [
    "df = pd.read_csv(\"breast-cancer-wisconsin.data\", header=None)\n",
    "df.columns = [\n",
    "    \"ID\", \"Clump Thickness\", \"Uniformity of Cell Size\",\n",
    "    \"Uniformity of Cell Shape\", \"Marginal Adhesion\",\n",
    "    \"Single Epithelial Cell Size\", \"Bare Nuclei\", \"Bland Chromatin\",\n",
    "    \"Normal Nucleoli\", \"Mitoses\", \"Class\"\n",
    "]"
   ]
  },
  {
   "cell_type": "markdown",
   "metadata": {},
   "source": [
    "## Checking for missing data"
   ]
  },
  {
   "cell_type": "markdown",
   "metadata": {},
   "source": [
    "The data source mentions that some missing values are encoded as \"?\", hence let us replace it with NaN to have a common form of missing data. Since inclusion of \"?\" makes the originally numeric column data type as an object data type, we must convert the \"Bare Nuclei\" to numeric before to work on missing data."
   ]
  },
  {
   "cell_type": "code",
   "execution_count": 4,
   "metadata": {},
   "outputs": [],
   "source": [
    "df = df.replace(\"?\", np.NaN)"
   ]
  },
  {
   "cell_type": "code",
   "execution_count": 5,
   "metadata": {},
   "outputs": [
    {
     "data": {
      "text/plain": [
       "ID                              int64\n",
       "Clump Thickness                 int64\n",
       "Uniformity of Cell Size         int64\n",
       "Uniformity of Cell Shape        int64\n",
       "Marginal Adhesion               int64\n",
       "Single Epithelial Cell Size     int64\n",
       "Bare Nuclei                    object\n",
       "Bland Chromatin                 int64\n",
       "Normal Nucleoli                 int64\n",
       "Mitoses                         int64\n",
       "Class                           int64\n",
       "dtype: object"
      ]
     },
     "execution_count": 5,
     "metadata": {},
     "output_type": "execute_result"
    }
   ],
   "source": [
    "df.dtypes"
   ]
  },
  {
   "cell_type": "markdown",
   "metadata": {},
   "source": [
    "We see that \"Bare Nuclei\" is an object. Therefore, we know that its intergers might be in string format. Therefore, we must convert it to a numeric format."
   ]
  },
  {
   "cell_type": "code",
   "execution_count": 6,
   "metadata": {},
   "outputs": [],
   "source": [
    "df[\"Bare Nuclei\"] = pd.to_numeric(df[\"Bare Nuclei\"])"
   ]
  },
  {
   "cell_type": "code",
   "execution_count": 7,
   "metadata": {
    "scrolled": true
   },
   "outputs": [
    {
     "data": {
      "text/plain": [
       "ID                               int64\n",
       "Clump Thickness                  int64\n",
       "Uniformity of Cell Size          int64\n",
       "Uniformity of Cell Shape         int64\n",
       "Marginal Adhesion                int64\n",
       "Single Epithelial Cell Size      int64\n",
       "Bare Nuclei                    float64\n",
       "Bland Chromatin                  int64\n",
       "Normal Nucleoli                  int64\n",
       "Mitoses                          int64\n",
       "Class                            int64\n",
       "dtype: object"
      ]
     },
     "execution_count": 7,
     "metadata": {},
     "output_type": "execute_result"
    }
   ],
   "source": [
    "df.dtypes"
   ]
  },
  {
   "cell_type": "markdown",
   "metadata": {},
   "source": [
    "Now, let us check which columns have missing data."
   ]
  },
  {
   "cell_type": "code",
   "execution_count": 8,
   "metadata": {},
   "outputs": [
    {
     "data": {
      "text/plain": [
       "ID                              0\n",
       "Clump Thickness                 0\n",
       "Uniformity of Cell Size         0\n",
       "Uniformity of Cell Shape        0\n",
       "Marginal Adhesion               0\n",
       "Single Epithelial Cell Size     0\n",
       "Bare Nuclei                    16\n",
       "Bland Chromatin                 0\n",
       "Normal Nucleoli                 0\n",
       "Mitoses                         0\n",
       "Class                           0\n",
       "dtype: int64"
      ]
     },
     "execution_count": 8,
     "metadata": {},
     "output_type": "execute_result"
    }
   ],
   "source": [
    "df.isna().sum()"
   ]
  },
  {
   "cell_type": "markdown",
   "metadata": {},
   "source": [
    "Let's visualize the missing values using the missingno module."
   ]
  },
  {
   "cell_type": "code",
   "execution_count": 9,
   "metadata": {},
   "outputs": [
    {
     "data": {
      "image/png": "[encoded data removed]",
      "text/plain": [
       "<Figure size 1800x720 with 2 Axes>"
      ]
     },
     "metadata": {},
     "output_type": "display_data"
    }
   ],
   "source": [
    "from missingno import matrix\n",
    "\n",
    "matrix(df);"
   ]
  },
  {
   "cell_type": "markdown",
   "metadata": {},
   "source": [
    "Therefore, we have missing values in the \"Bare Nuclei\" variable. Let us use the mean imputation method to tackle this issue. We know that it is the 6th index in our dataframe."
   ]
  },
  {
   "cell_type": "code",
   "execution_count": 10,
   "metadata": {},
   "outputs": [],
   "source": [
    "from sklearn.impute import SimpleImputer\n",
    "\n",
    "imputer = SimpleImputer(missing_values=np.nan, strategy=\"mean\")\n",
    "imputer = imputer.fit(df[[\"Bare Nuclei\"]])\n",
    "df[[\"Bare Nuclei\"]] = imputer.transform(df[[\"Bare Nuclei\"]]).ravel()"
   ]
  },
  {
   "cell_type": "code",
   "execution_count": 11,
   "metadata": {},
   "outputs": [
    {
     "data": {
      "image/png": "[encoded data removed]",
      "text/plain": [
       "<Figure size 1800x720 with 2 Axes>"
      ]
     },
     "metadata": {},
     "output_type": "display_data"
    }
   ],
   "source": [
    "from missingno import matrix\n",
    "\n",
    "matrix(df);"
   ]
  },
  {
   "cell_type": "markdown",
   "metadata": {},
   "source": [
    "Therefore, we have overcome the missing values."
   ]
  },
  {
   "cell_type": "markdown",
   "metadata": {},
   "source": [
    "## Descriptive Statistics"
   ]
  },
  {
   "cell_type": "markdown",
   "metadata": {},
   "source": [
    "Inspecting first 5 rows"
   ]
  },
  {
   "cell_type": "code",
   "execution_count": 12,
   "metadata": {},
   "outputs": [
    {
     "data": {
      "text/html": [
       "<div>\n",
       "<style scoped>\n",
       "    .dataframe tbody tr th:only-of-type {\n",
       "        vertical-align: middle;\n",
       "    }\n",
       "\n",
       "    .dataframe tbody tr th {\n",
       "        vertical-align: top;\n",
       "    }\n",
       "\n",
       "    .dataframe thead th {\n",
       "        text-align: right;\n",
       "    }\n",
       "</style>\n",
       "<table border=\"1\" class=\"dataframe\">\n",
       "  <thead>\n",
       "    <tr style=\"text-align: right;\">\n",
       "      <th></th>\n",
       "      <th>ID</th>\n",
       "      <th>Clump Thickness</th>\n",
       "      <th>Uniformity of Cell Size</th>\n",
       "      <th>Uniformity of Cell Shape</th>\n",
       "      <th>Marginal Adhesion</th>\n",
       "      <th>Single Epithelial Cell Size</th>\n",
       "      <th>Bare Nuclei</th>\n",
       "      <th>Bland Chromatin</th>\n",
       "      <th>Normal Nucleoli</th>\n",
       "      <th>Mitoses</th>\n",
       "      <th>Class</th>\n",
       "    </tr>\n",
       "  </thead>\n",
       "  <tbody>\n",
       "    <tr>\n",
       "      <th>0</th>\n",
       "      <td>1000025</td>\n",
       "      <td>5</td>\n",
       "      <td>1</td>\n",
       "      <td>1</td>\n",
       "      <td>1</td>\n",
       "      <td>2</td>\n",
       "      <td>1.0</td>\n",
       "      <td>3</td>\n",
       "      <td>1</td>\n",
       "      <td>1</td>\n",
       "      <td>2</td>\n",
       "    </tr>\n",
       "    <tr>\n",
       "      <th>1</th>\n",
       "      <td>1002945</td>\n",
       "      <td>5</td>\n",
       "      <td>4</td>\n",
       "      <td>4</td>\n",
       "      <td>5</td>\n",
       "      <td>7</td>\n",
       "      <td>10.0</td>\n",
       "      <td>3</td>\n",
       "      <td>2</td>\n",
       "      <td>1</td>\n",
       "      <td>2</td>\n",
       "    </tr>\n",
       "    <tr>\n",
       "      <th>2</th>\n",
       "      <td>1015425</td>\n",
       "      <td>3</td>\n",
       "      <td>1</td>\n",
       "      <td>1</td>\n",
       "      <td>1</td>\n",
       "      <td>2</td>\n",
       "      <td>2.0</td>\n",
       "      <td>3</td>\n",
       "      <td>1</td>\n",
       "      <td>1</td>\n",
       "      <td>2</td>\n",
       "    </tr>\n",
       "    <tr>\n",
       "      <th>3</th>\n",
       "      <td>1016277</td>\n",
       "      <td>6</td>\n",
       "      <td>8</td>\n",
       "      <td>8</td>\n",
       "      <td>1</td>\n",
       "      <td>3</td>\n",
       "      <td>4.0</td>\n",
       "      <td>3</td>\n",
       "      <td>7</td>\n",
       "      <td>1</td>\n",
       "      <td>2</td>\n",
       "    </tr>\n",
       "    <tr>\n",
       "      <th>4</th>\n",
       "      <td>1017023</td>\n",
       "      <td>4</td>\n",
       "      <td>1</td>\n",
       "      <td>1</td>\n",
       "      <td>3</td>\n",
       "      <td>2</td>\n",
       "      <td>1.0</td>\n",
       "      <td>3</td>\n",
       "      <td>1</td>\n",
       "      <td>1</td>\n",
       "      <td>2</td>\n",
       "    </tr>\n",
       "  </tbody>\n",
       "</table>\n",
       "</div>"
      ],
      "text/plain": [
       "        ID  Clump Thickness  Uniformity of Cell Size  \\\n",
       "0  1000025                5                        1   \n",
       "1  1002945                5                        4   \n",
       "2  1015425                3                        1   \n",
       "3  1016277                6                        8   \n",
       "4  1017023                4                        1   \n",
       "\n",
       "   Uniformity of Cell Shape  Marginal Adhesion  Single Epithelial Cell Size  \\\n",
       "0                         1                  1                            2   \n",
       "1                         4                  5                            7   \n",
       "2                         1                  1                            2   \n",
       "3                         8                  1                            3   \n",
       "4                         1                  3                            2   \n",
       "\n",
       "   Bare Nuclei  Bland Chromatin  Normal Nucleoli  Mitoses  Class  \n",
       "0          1.0                3                1        1      2  \n",
       "1         10.0                3                2        1      2  \n",
       "2          2.0                3                1        1      2  \n",
       "3          4.0                3                7        1      2  \n",
       "4          1.0                3                1        1      2  "
      ]
     },
     "execution_count": 12,
     "metadata": {},
     "output_type": "execute_result"
    }
   ],
   "source": [
    "df.head()"
   ]
  },
  {
   "cell_type": "markdown",
   "metadata": {},
   "source": [
    "Data Description"
   ]
  },
  {
   "cell_type": "code",
   "execution_count": 13,
   "metadata": {
    "scrolled": true
   },
   "outputs": [
    {
     "data": {
      "text/html": [
       "<div>\n",
       "<style scoped>\n",
       "    .dataframe tbody tr th:only-of-type {\n",
       "        vertical-align: middle;\n",
       "    }\n",
       "\n",
       "    .dataframe tbody tr th {\n",
       "        vertical-align: top;\n",
       "    }\n",
       "\n",
       "    .dataframe thead th {\n",
       "        text-align: right;\n",
       "    }\n",
       "</style>\n",
       "<table border=\"1\" class=\"dataframe\">\n",
       "  <thead>\n",
       "    <tr style=\"text-align: right;\">\n",
       "      <th></th>\n",
       "      <th>ID</th>\n",
       "      <th>Clump Thickness</th>\n",
       "      <th>Uniformity of Cell Size</th>\n",
       "      <th>Uniformity of Cell Shape</th>\n",
       "      <th>Marginal Adhesion</th>\n",
       "      <th>Single Epithelial Cell Size</th>\n",
       "      <th>Bare Nuclei</th>\n",
       "      <th>Bland Chromatin</th>\n",
       "      <th>Normal Nucleoli</th>\n",
       "      <th>Mitoses</th>\n",
       "      <th>Class</th>\n",
       "    </tr>\n",
       "  </thead>\n",
       "  <tbody>\n",
       "    <tr>\n",
       "      <th>count</th>\n",
       "      <td>6.990000e+02</td>\n",
       "      <td>699.000000</td>\n",
       "      <td>699.000000</td>\n",
       "      <td>699.000000</td>\n",
       "      <td>699.000000</td>\n",
       "      <td>699.000000</td>\n",
       "      <td>699.000000</td>\n",
       "      <td>699.000000</td>\n",
       "      <td>699.000000</td>\n",
       "      <td>699.000000</td>\n",
       "      <td>699.000000</td>\n",
       "    </tr>\n",
       "    <tr>\n",
       "      <th>mean</th>\n",
       "      <td>1.071704e+06</td>\n",
       "      <td>4.417740</td>\n",
       "      <td>3.134478</td>\n",
       "      <td>3.207439</td>\n",
       "      <td>2.806867</td>\n",
       "      <td>3.216023</td>\n",
       "      <td>3.544656</td>\n",
       "      <td>3.437768</td>\n",
       "      <td>2.866953</td>\n",
       "      <td>1.589413</td>\n",
       "      <td>2.689557</td>\n",
       "    </tr>\n",
       "    <tr>\n",
       "      <th>std</th>\n",
       "      <td>6.170957e+05</td>\n",
       "      <td>2.815741</td>\n",
       "      <td>3.051459</td>\n",
       "      <td>2.971913</td>\n",
       "      <td>2.855379</td>\n",
       "      <td>2.214300</td>\n",
       "      <td>3.601852</td>\n",
       "      <td>2.438364</td>\n",
       "      <td>3.053634</td>\n",
       "      <td>1.715078</td>\n",
       "      <td>0.951273</td>\n",
       "    </tr>\n",
       "    <tr>\n",
       "      <th>min</th>\n",
       "      <td>6.163400e+04</td>\n",
       "      <td>1.000000</td>\n",
       "      <td>1.000000</td>\n",
       "      <td>1.000000</td>\n",
       "      <td>1.000000</td>\n",
       "      <td>1.000000</td>\n",
       "      <td>1.000000</td>\n",
       "      <td>1.000000</td>\n",
       "      <td>1.000000</td>\n",
       "      <td>1.000000</td>\n",
       "      <td>2.000000</td>\n",
       "    </tr>\n",
       "    <tr>\n",
       "      <th>25%</th>\n",
       "      <td>8.706885e+05</td>\n",
       "      <td>2.000000</td>\n",
       "      <td>1.000000</td>\n",
       "      <td>1.000000</td>\n",
       "      <td>1.000000</td>\n",
       "      <td>2.000000</td>\n",
       "      <td>1.000000</td>\n",
       "      <td>2.000000</td>\n",
       "      <td>1.000000</td>\n",
       "      <td>1.000000</td>\n",
       "      <td>2.000000</td>\n",
       "    </tr>\n",
       "    <tr>\n",
       "      <th>50%</th>\n",
       "      <td>1.171710e+06</td>\n",
       "      <td>4.000000</td>\n",
       "      <td>1.000000</td>\n",
       "      <td>1.000000</td>\n",
       "      <td>1.000000</td>\n",
       "      <td>2.000000</td>\n",
       "      <td>1.000000</td>\n",
       "      <td>3.000000</td>\n",
       "      <td>1.000000</td>\n",
       "      <td>1.000000</td>\n",
       "      <td>2.000000</td>\n",
       "    </tr>\n",
       "    <tr>\n",
       "      <th>75%</th>\n",
       "      <td>1.238298e+06</td>\n",
       "      <td>6.000000</td>\n",
       "      <td>5.000000</td>\n",
       "      <td>5.000000</td>\n",
       "      <td>4.000000</td>\n",
       "      <td>4.000000</td>\n",
       "      <td>5.000000</td>\n",
       "      <td>5.000000</td>\n",
       "      <td>4.000000</td>\n",
       "      <td>1.000000</td>\n",
       "      <td>4.000000</td>\n",
       "    </tr>\n",
       "    <tr>\n",
       "      <th>max</th>\n",
       "      <td>1.345435e+07</td>\n",
       "      <td>10.000000</td>\n",
       "      <td>10.000000</td>\n",
       "      <td>10.000000</td>\n",
       "      <td>10.000000</td>\n",
       "      <td>10.000000</td>\n",
       "      <td>10.000000</td>\n",
       "      <td>10.000000</td>\n",
       "      <td>10.000000</td>\n",
       "      <td>10.000000</td>\n",
       "      <td>4.000000</td>\n",
       "    </tr>\n",
       "  </tbody>\n",
       "</table>\n",
       "</div>"
      ],
      "text/plain": [
       "                 ID  Clump Thickness  Uniformity of Cell Size  \\\n",
       "count  6.990000e+02       699.000000               699.000000   \n",
       "mean   1.071704e+06         4.417740                 3.134478   \n",
       "std    6.170957e+05         2.815741                 3.051459   \n",
       "min    6.163400e+04         1.000000                 1.000000   \n",
       "25%    8.706885e+05         2.000000                 1.000000   \n",
       "50%    1.171710e+06         4.000000                 1.000000   \n",
       "75%    1.238298e+06         6.000000                 5.000000   \n",
       "max    1.345435e+07        10.000000                10.000000   \n",
       "\n",
       "       Uniformity of Cell Shape  Marginal Adhesion  \\\n",
       "count                699.000000         699.000000   \n",
       "mean                   3.207439           2.806867   \n",
       "std                    2.971913           2.855379   \n",
       "min                    1.000000           1.000000   \n",
       "25%                    1.000000           1.000000   \n",
       "50%                    1.000000           1.000000   \n",
       "75%                    5.000000           4.000000   \n",
       "max                   10.000000          10.000000   \n",
       "\n",
       "       Single Epithelial Cell Size  Bare Nuclei  Bland Chromatin  \\\n",
       "count                   699.000000   699.000000       699.000000   \n",
       "mean                      3.216023     3.544656         3.437768   \n",
       "std                       2.214300     3.601852         2.438364   \n",
       "min                       1.000000     1.000000         1.000000   \n",
       "25%                       2.000000     1.000000         2.000000   \n",
       "50%                       2.000000     1.000000         3.000000   \n",
       "75%                       4.000000     5.000000         5.000000   \n",
       "max                      10.000000    10.000000        10.000000   \n",
       "\n",
       "       Normal Nucleoli     Mitoses       Class  \n",
       "count       699.000000  699.000000  699.000000  \n",
       "mean          2.866953    1.589413    2.689557  \n",
       "std           3.053634    1.715078    0.951273  \n",
       "min           1.000000    1.000000    2.000000  \n",
       "25%           1.000000    1.000000    2.000000  \n",
       "50%           1.000000    1.000000    2.000000  \n",
       "75%           4.000000    1.000000    4.000000  \n",
       "max          10.000000   10.000000    4.000000  "
      ]
     },
     "execution_count": 13,
     "metadata": {},
     "output_type": "execute_result"
    }
   ],
   "source": [
    "df.describe()"
   ]
  },
  {
   "cell_type": "markdown",
   "metadata": {},
   "source": [
    "## Choosing our dependent and independent variables"
   ]
  },
  {
   "cell_type": "code",
   "execution_count": 14,
   "metadata": {},
   "outputs": [],
   "source": [
    "X = df.iloc[:, 1:-1].values\n",
    "y = df.iloc[:, -1].values"
   ]
  },
  {
   "cell_type": "code",
   "execution_count": 15,
   "metadata": {},
   "outputs": [
    {
     "name": "stdout",
     "output_type": "stream",
     "text": [
      "[[ 5.  1.  1.  1.  2.  1.  3.  1.  1.]\n",
      " [ 5.  4.  4.  5.  7. 10.  3.  2.  1.]\n",
      " [ 3.  1.  1.  1.  2.  2.  3.  1.  1.]\n",
      " [ 6.  8.  8.  1.  3.  4.  3.  7.  1.]\n",
      " [ 4.  1.  1.  3.  2.  1.  3.  1.  1.]]\n"
     ]
    }
   ],
   "source": [
    "print(X[:5])"
   ]
  },
  {
   "cell_type": "code",
   "execution_count": 16,
   "metadata": {},
   "outputs": [
    {
     "name": "stdout",
     "output_type": "stream",
     "text": [
      "[2 2 2 2 2]\n"
     ]
    }
   ],
   "source": [
    "print(y[:5])"
   ]
  },
  {
   "cell_type": "markdown",
   "metadata": {},
   "source": [
    "## Boxplots"
   ]
  },
  {
   "cell_type": "code",
   "execution_count": 17,
   "metadata": {},
   "outputs": [
    {
     "data": {
      "image/png": "[encoded data removed]",
      "text/plain": [
       "<Figure size 1440x720 with 1 Axes>"
      ]
     },
     "metadata": {},
     "output_type": "display_data"
    }
   ],
   "source": [
    "plt.rcParams['figure.figsize'] = (20, 10)\n",
    "plt.boxplot(X, widths=0.7, patch_artist=True, autorange=True, manage_ticks=True);"
   ]
  },
  {
   "cell_type": "code",
   "execution_count": 18,
   "metadata": {
    "scrolled": true
   },
   "outputs": [
    {
     "data": {
      "image/png": "[encoded data removed]",
      "text/plain": [
       "<Figure size 1440x504 with 1 Axes>"
      ]
     },
     "metadata": {},
     "output_type": "display_data"
    }
   ],
   "source": [
    "plt.rcParams['figure.figsize'] = (20, 7)\n",
    "plt.boxplot(y, widths=0.17, patch_artist=True, autorange=True, manage_ticks=True);"
   ]
  },
  {
   "cell_type": "markdown",
   "metadata": {
    "colab_type": "text",
    "id": "0AnzJQCj7TLO"
   },
   "source": [
    "## Splitting the dataset into the Training set and Test set"
   ]
  },
  {
   "cell_type": "code",
   "execution_count": 19,
   "metadata": {},
   "outputs": [],
   "source": [
    "from sklearn.model_selection import train_test_split\n",
    "\n",
    "X_train, X_test, y_train, y_test = train_test_split(X, y, test_size=0.2, random_state=192)"
   ]
  },
  {
   "cell_type": "markdown",
   "metadata": {},
   "source": [
    "## Feature Scaling"
   ]
  },
  {
   "cell_type": "code",
   "execution_count": 20,
   "metadata": {},
   "outputs": [],
   "source": [
    "from sklearn.preprocessing import StandardScaler\n",
    "\n",
    "sc = StandardScaler()\n",
    "X_train = sc.fit_transform(X_train)\n",
    "X_test = sc.transform(X_test)"
   ]
  },
  {
   "cell_type": "markdown",
   "metadata": {
    "colab_type": "text",
    "id": "pS1Q-n_A7iZ_"
   },
   "source": [
    "## Logistic Regression Model"
   ]
  },
  {
   "cell_type": "code",
   "execution_count": 21,
   "metadata": {},
   "outputs": [
    {
     "data": {
      "text/plain": [
       "LogisticRegression(random_state=192)"
      ]
     },
     "execution_count": 21,
     "metadata": {},
     "output_type": "execute_result"
    }
   ],
   "source": [
    "from sklearn.linear_model import LogisticRegression\n",
    "\n",
    "logistic = LogisticRegression(random_state=192)\n",
    "logistic.fit(X_train, y_train)"
   ]
  },
  {
   "cell_type": "markdown",
   "metadata": {
    "colab_type": "text",
    "id": "4cgD7EnB8Dnd"
   },
   "source": [
    "## Logistic Regression Prediction"
   ]
  },
  {
   "cell_type": "code",
   "execution_count": 22,
   "metadata": {},
   "outputs": [
    {
     "name": "stdout",
     "output_type": "stream",
     "text": [
      "First 10 Actual vs. Predicted:\n",
      "\n",
      "Observation # \t Actual \t Predicted\n",
      "1 \t\t 4 \t\t 4\n",
      "2 \t\t 2 \t\t 2\n",
      "3 \t\t 2 \t\t 2\n",
      "4 \t\t 4 \t\t 2\n",
      "5 \t\t 2 \t\t 2\n",
      "6 \t\t 2 \t\t 2\n",
      "7 \t\t 2 \t\t 2\n",
      "8 \t\t 2 \t\t 2\n",
      "9 \t\t 2 \t\t 2\n",
      "10 \t\t 2 \t\t 2\n"
     ]
    }
   ],
   "source": [
    "from Predictions_and_Confusion_Matrix import Predict, ConfusionMatrixAndAccuracy\n",
    "\n",
    "Predict(logistic, X_test, y_test)"
   ]
  },
  {
   "cell_type": "markdown",
   "metadata": {
    "colab_type": "text",
    "id": "26CHkZbs8Tu5"
   },
   "source": [
    "## Logistic Regression Confusion Matrix"
   ]
  },
  {
   "cell_type": "code",
   "execution_count": 23,
   "metadata": {
    "scrolled": true
   },
   "outputs": [
    {
     "name": "stdout",
     "output_type": "stream",
     "text": [
      "\n",
      "    Confusion Matrix\n",
      "             Predicted 0 Predicted 1\n",
      "    Actual 0     96          2\n",
      "    Actual 1     3          39\n",
      "    \n",
      "R-squared: 96.43%\n",
      "Number of false positives: 2\n",
      "Number of false positives: 3\n"
     ]
    }
   ],
   "source": [
    "ConfusionMatrixAndAccuracy(y_test)"
   ]
  },
  {
   "cell_type": "markdown",
   "metadata": {
    "colab_type": "text",
    "id": "pS1Q-n_A7iZ_"
   },
   "source": [
    "## K-Nearest Neighbors (KNN) Model"
   ]
  },
  {
   "cell_type": "code",
   "execution_count": 24,
   "metadata": {},
   "outputs": [
    {
     "data": {
      "text/plain": [
       "KNeighborsClassifier()"
      ]
     },
     "execution_count": 24,
     "metadata": {},
     "output_type": "execute_result"
    }
   ],
   "source": [
    "from sklearn.neighbors import KNeighborsClassifier\n",
    "\n",
    "knn = KNeighborsClassifier(n_neighbors=5, metric='minkowski', p=2)\n",
    "knn.fit(X_train, y_train)"
   ]
  },
  {
   "cell_type": "markdown",
   "metadata": {
    "colab_type": "text",
    "id": "4cgD7EnB8Dnd"
   },
   "source": [
    "## K-Nearest Neighbors (KNN) Prediction"
   ]
  },
  {
   "cell_type": "code",
   "execution_count": 25,
   "metadata": {},
   "outputs": [
    {
     "name": "stdout",
     "output_type": "stream",
     "text": [
      "First 10 Actual vs. Predicted:\n",
      "\n",
      "Observation # \t Actual \t Predicted\n",
      "1 \t\t 4 \t\t 4\n",
      "2 \t\t 2 \t\t 2\n",
      "3 \t\t 2 \t\t 2\n",
      "4 \t\t 4 \t\t 4\n",
      "5 \t\t 2 \t\t 2\n",
      "6 \t\t 2 \t\t 2\n",
      "7 \t\t 2 \t\t 2\n",
      "8 \t\t 2 \t\t 2\n",
      "9 \t\t 2 \t\t 2\n",
      "10 \t\t 2 \t\t 2\n"
     ]
    }
   ],
   "source": [
    "Predict(knn, X_test, y_test)"
   ]
  },
  {
   "cell_type": "markdown",
   "metadata": {
    "colab_type": "text",
    "id": "26CHkZbs8Tu5"
   },
   "source": [
    "## K-Nearest Neighbors (KNN) Confusion Matrix"
   ]
  },
  {
   "cell_type": "code",
   "execution_count": 26,
   "metadata": {},
   "outputs": [
    {
     "name": "stdout",
     "output_type": "stream",
     "text": [
      "\n",
      "    Confusion Matrix\n",
      "             Predicted 0 Predicted 1\n",
      "    Actual 0     96          2\n",
      "    Actual 1     2          40\n",
      "    \n",
      "R-squared: 97.14%\n",
      "Number of false positives: 2\n",
      "Number of false positives: 2\n"
     ]
    }
   ],
   "source": [
    "ConfusionMatrixAndAccuracy(y_test)"
   ]
  },
  {
   "cell_type": "markdown",
   "metadata": {
    "colab_type": "text",
    "id": "pS1Q-n_A7iZ_"
   },
   "source": [
    "## Support Vector Machine (SVM) Model"
   ]
  },
  {
   "cell_type": "code",
   "execution_count": 27,
   "metadata": {},
   "outputs": [
    {
     "data": {
      "text/plain": [
       "SVC(kernel='linear', random_state=192)"
      ]
     },
     "execution_count": 27,
     "metadata": {},
     "output_type": "execute_result"
    }
   ],
   "source": [
    "from sklearn.svm import SVC\n",
    "\n",
    "svm = SVC(kernel = 'linear', random_state = 192)\n",
    "svm.fit(X_train, y_train)"
   ]
  },
  {
   "cell_type": "markdown",
   "metadata": {
    "colab_type": "text",
    "id": "4cgD7EnB8Dnd"
   },
   "source": [
    "## Support Vector Machine (SVM) Prediction"
   ]
  },
  {
   "cell_type": "code",
   "execution_count": 28,
   "metadata": {},
   "outputs": [
    {
     "name": "stdout",
     "output_type": "stream",
     "text": [
      "First 10 Actual vs. Predicted:\n",
      "\n",
      "Observation # \t Actual \t Predicted\n",
      "1 \t\t 4 \t\t 4\n",
      "2 \t\t 2 \t\t 2\n",
      "3 \t\t 2 \t\t 2\n",
      "4 \t\t 4 \t\t 4\n",
      "5 \t\t 2 \t\t 2\n",
      "6 \t\t 2 \t\t 2\n",
      "7 \t\t 2 \t\t 2\n",
      "8 \t\t 2 \t\t 2\n",
      "9 \t\t 2 \t\t 2\n",
      "10 \t\t 2 \t\t 2\n"
     ]
    }
   ],
   "source": [
    "Predict(svm, X_test, y_test)"
   ]
  },
  {
   "cell_type": "markdown",
   "metadata": {
    "colab_type": "text",
    "id": "26CHkZbs8Tu5"
   },
   "source": [
    "## Support Vector Machine (SVM) Confusion Matrix"
   ]
  },
  {
   "cell_type": "code",
   "execution_count": 29,
   "metadata": {},
   "outputs": [
    {
     "name": "stdout",
     "output_type": "stream",
     "text": [
      "\n",
      "    Confusion Matrix\n",
      "             Predicted 0 Predicted 1\n",
      "    Actual 0     96          2\n",
      "    Actual 1     2          40\n",
      "    \n",
      "R-squared: 97.14%\n",
      "Number of false positives: 2\n",
      "Number of false positives: 2\n"
     ]
    }
   ],
   "source": [
    "ConfusionMatrixAndAccuracy(y_test)"
   ]
  },
  {
   "cell_type": "markdown",
   "metadata": {
    "colab_type": "text",
    "id": "pS1Q-n_A7iZ_"
   },
   "source": [
    "## Kernel Support Vector Machine (Kernal SVM) Model"
   ]
  },
  {
   "cell_type": "code",
   "execution_count": 30,
   "metadata": {},
   "outputs": [
    {
     "data": {
      "text/plain": [
       "SVC(random_state=192)"
      ]
     },
     "execution_count": 30,
     "metadata": {},
     "output_type": "execute_result"
    }
   ],
   "source": [
    "from sklearn.svm import SVC\n",
    "\n",
    "k_svm = SVC(kernel = 'rbf', random_state = 192)\n",
    "k_svm.fit(X_train, y_train)"
   ]
  },
  {
   "cell_type": "markdown",
   "metadata": {
    "colab_type": "text",
    "id": "4cgD7EnB8Dnd"
   },
   "source": [
    "## Kernal SVM Prediction"
   ]
  },
  {
   "cell_type": "code",
   "execution_count": 31,
   "metadata": {},
   "outputs": [
    {
     "name": "stdout",
     "output_type": "stream",
     "text": [
      "First 10 Actual vs. Predicted:\n",
      "\n",
      "Observation # \t Actual \t Predicted\n",
      "1 \t\t 4 \t\t 4\n",
      "2 \t\t 2 \t\t 2\n",
      "3 \t\t 2 \t\t 2\n",
      "4 \t\t 4 \t\t 4\n",
      "5 \t\t 2 \t\t 2\n",
      "6 \t\t 2 \t\t 2\n",
      "7 \t\t 2 \t\t 2\n",
      "8 \t\t 2 \t\t 2\n",
      "9 \t\t 2 \t\t 2\n",
      "10 \t\t 2 \t\t 2\n"
     ]
    }
   ],
   "source": [
    "Predict(k_svm, X_test, y_test)"
   ]
  },
  {
   "cell_type": "markdown",
   "metadata": {
    "colab_type": "text",
    "id": "26CHkZbs8Tu5"
   },
   "source": [
    "## Kernal SVM Confusion Matrix"
   ]
  },
  {
   "cell_type": "code",
   "execution_count": 32,
   "metadata": {},
   "outputs": [
    {
     "name": "stdout",
     "output_type": "stream",
     "text": [
      "\n",
      "    Confusion Matrix\n",
      "             Predicted 0 Predicted 1\n",
      "    Actual 0     96          2\n",
      "    Actual 1     2          40\n",
      "    \n",
      "R-squared: 97.14%\n",
      "Number of false positives: 2\n",
      "Number of false positives: 2\n"
     ]
    }
   ],
   "source": [
    "ConfusionMatrixAndAccuracy(y_test)"
   ]
  },
  {
   "cell_type": "markdown",
   "metadata": {
    "colab_type": "text",
    "id": "pS1Q-n_A7iZ_"
   },
   "source": [
    "## Naive Bayes Model"
   ]
  },
  {
   "cell_type": "code",
   "execution_count": 33,
   "metadata": {},
   "outputs": [
    {
     "data": {
      "text/plain": [
       "GaussianNB()"
      ]
     },
     "execution_count": 33,
     "metadata": {},
     "output_type": "execute_result"
    }
   ],
   "source": [
    "from sklearn.naive_bayes import GaussianNB\n",
    "\n",
    "nb = GaussianNB()\n",
    "nb.fit(X_train, y_train)"
   ]
  },
  {
   "cell_type": "markdown",
   "metadata": {
    "colab_type": "text",
    "id": "4cgD7EnB8Dnd"
   },
   "source": [
    "## Naive Bayes Prediction"
   ]
  },
  {
   "cell_type": "code",
   "execution_count": 34,
   "metadata": {},
   "outputs": [
    {
     "name": "stdout",
     "output_type": "stream",
     "text": [
      "First 10 Actual vs. Predicted:\n",
      "\n",
      "Observation # \t Actual \t Predicted\n",
      "1 \t\t 4 \t\t 4\n",
      "2 \t\t 2 \t\t 2\n",
      "3 \t\t 2 \t\t 2\n",
      "4 \t\t 4 \t\t 2\n",
      "5 \t\t 2 \t\t 2\n",
      "6 \t\t 2 \t\t 2\n",
      "7 \t\t 2 \t\t 2\n",
      "8 \t\t 2 \t\t 2\n",
      "9 \t\t 2 \t\t 2\n",
      "10 \t\t 2 \t\t 2\n"
     ]
    }
   ],
   "source": [
    "Predict(nb, X_test, y_test)"
   ]
  },
  {
   "cell_type": "markdown",
   "metadata": {
    "colab_type": "text",
    "id": "26CHkZbs8Tu5"
   },
   "source": [
    "## Naive Bayes Confusion Matrix"
   ]
  },
  {
   "cell_type": "code",
   "execution_count": 35,
   "metadata": {},
   "outputs": [
    {
     "name": "stdout",
     "output_type": "stream",
     "text": [
      "\n",
      "    Confusion Matrix\n",
      "             Predicted 0 Predicted 1\n",
      "    Actual 0     95          3\n",
      "    Actual 1     3          39\n",
      "    \n",
      "R-squared: 95.71%\n",
      "Number of false positives: 3\n",
      "Number of false positives: 3\n"
     ]
    }
   ],
   "source": [
    "ConfusionMatrixAndAccuracy(y_test)"
   ]
  },
  {
   "cell_type": "markdown",
   "metadata": {
    "colab_type": "text",
    "id": "pS1Q-n_A7iZ_"
   },
   "source": [
    "## Decision Tree Model"
   ]
  },
  {
   "cell_type": "code",
   "execution_count": 36,
   "metadata": {},
   "outputs": [
    {
     "data": {
      "text/plain": [
       "DecisionTreeClassifier(criterion='entropy', random_state=192)"
      ]
     },
     "execution_count": 36,
     "metadata": {},
     "output_type": "execute_result"
    }
   ],
   "source": [
    "from sklearn.tree import DecisionTreeClassifier\n",
    "\n",
    "dt = DecisionTreeClassifier(criterion = 'entropy', random_state = 192)\n",
    "dt.fit(X_train, y_train)"
   ]
  },
  {
   "cell_type": "markdown",
   "metadata": {
    "colab_type": "text",
    "id": "4cgD7EnB8Dnd"
   },
   "source": [
    "## Decision Tree Prediction"
   ]
  },
  {
   "cell_type": "code",
   "execution_count": 37,
   "metadata": {},
   "outputs": [
    {
     "name": "stdout",
     "output_type": "stream",
     "text": [
      "First 10 Actual vs. Predicted:\n",
      "\n",
      "Observation # \t Actual \t Predicted\n",
      "1 \t\t 4 \t\t 4\n",
      "2 \t\t 2 \t\t 2\n",
      "3 \t\t 2 \t\t 2\n",
      "4 \t\t 4 \t\t 2\n",
      "5 \t\t 2 \t\t 2\n",
      "6 \t\t 2 \t\t 2\n",
      "7 \t\t 2 \t\t 2\n",
      "8 \t\t 2 \t\t 2\n",
      "9 \t\t 2 \t\t 2\n",
      "10 \t\t 2 \t\t 2\n"
     ]
    }
   ],
   "source": [
    "Predict(dt, X_test, y_test)"
   ]
  },
  {
   "cell_type": "markdown",
   "metadata": {
    "colab_type": "text",
    "id": "26CHkZbs8Tu5"
   },
   "source": [
    "## Decision Tree Confusion Matrix"
   ]
  },
  {
   "cell_type": "code",
   "execution_count": 38,
   "metadata": {},
   "outputs": [
    {
     "name": "stdout",
     "output_type": "stream",
     "text": [
      "\n",
      "    Confusion Matrix\n",
      "             Predicted 0 Predicted 1\n",
      "    Actual 0     96          2\n",
      "    Actual 1     8          34\n",
      "    \n",
      "R-squared: 92.86%\n",
      "Number of false positives: 2\n",
      "Number of false positives: 8\n"
     ]
    }
   ],
   "source": [
    "ConfusionMatrixAndAccuracy(y_test)"
   ]
  },
  {
   "cell_type": "markdown",
   "metadata": {},
   "source": [
    "## Plotting the Decision Tree"
   ]
  },
  {
   "cell_type": "code",
   "execution_count": 39,
   "metadata": {},
   "outputs": [
    {
     "data": {
      "image/svg+xml": [
       "<?xml version=\"1.0\" encoding=\"UTF-8\" standalone=\"no\"?>\r\n",
       "<!DOCTYPE svg PUBLIC \"-//W3C//DTD SVG 1.1//EN\"\r\n",
       " \"http://www.w3.org/Graphics/SVG/1.1/DTD/svg11.dtd\">\r\n",
       "<!-- Generated by graphviz version 2.38.0 (20140413.2041)\r\n",
       " -->\r\n",
       "<!-- Title: Tree Pages: 1 -->\r\n",
       "<svg width=\"1475pt\" height=\"1309pt\"\r\n",
       " viewBox=\"0.00 0.00 1475.00 1309.00\" xmlns=\"http://www.w3.org/2000/svg\" xmlns:xlink=\"http://www.w3.org/1999/xlink\">\r\n",
       "<g id=\"graph0\" class=\"graph\" transform=\"scale(1 1) rotate(0) translate(4 1305)\">\r\n",
       "<title>Tree</title>\r\n",
       "<polygon fill=\"white\" stroke=\"none\" points=\"-4,4 -4,-1305 1471,-1305 1471,4 -4,4\"/>\r\n",
       "<!-- 0 -->\r\n",
       "<g id=\"node1\" class=\"node\"><title>0</title>\r\n",
       "<path fill=\"#f3c7a6\" stroke=\"black\" d=\"M619.5,-1301C619.5,-1301 513.5,-1301 513.5,-1301 507.5,-1301 501.5,-1295 501.5,-1289 501.5,-1289 501.5,-1245 501.5,-1245 501.5,-1239 507.5,-1233 513.5,-1233 513.5,-1233 619.5,-1233 619.5,-1233 625.5,-1233 631.5,-1239 631.5,-1245 631.5,-1245 631.5,-1289 631.5,-1289 631.5,-1295 625.5,-1301 619.5,-1301\"/>\r\n",
       "<text text-anchor=\"middle\" x=\"566.5\" y=\"-1285.8\" font-family=\"Helvetica,sans-Serif\" font-size=\"14.00\">X[1] &lt;= &#45;0.239</text>\r\n",
       "<text text-anchor=\"middle\" x=\"566.5\" y=\"-1270.8\" font-family=\"Helvetica,sans-Serif\" font-size=\"14.00\">entropy = 0.939</text>\r\n",
       "<text text-anchor=\"middle\" x=\"566.5\" y=\"-1255.8\" font-family=\"Helvetica,sans-Serif\" font-size=\"14.00\">samples = 559</text>\r\n",
       "<text text-anchor=\"middle\" x=\"566.5\" y=\"-1240.8\" font-family=\"Helvetica,sans-Serif\" font-size=\"14.00\">value = [360, 199]</text>\r\n",
       "</g>\r\n",
       "<!-- 1 -->\r\n",
       "<g id=\"node2\" class=\"node\"><title>1</title>\r\n",
       "<path fill=\"#e6843d\" stroke=\"black\" d=\"M479.5,-1197C479.5,-1197 387.5,-1197 387.5,-1197 381.5,-1197 375.5,-1191 375.5,-1185 375.5,-1185 375.5,-1141 375.5,-1141 375.5,-1135 381.5,-1129 387.5,-1129 387.5,-1129 479.5,-1129 479.5,-1129 485.5,-1129 491.5,-1135 491.5,-1141 491.5,-1141 491.5,-1185 491.5,-1185 491.5,-1191 485.5,-1197 479.5,-1197\"/>\r\n",
       "<text text-anchor=\"middle\" x=\"433.5\" y=\"-1181.8\" font-family=\"Helvetica,sans-Serif\" font-size=\"14.00\">X[6] &lt;= 0.397</text>\r\n",
       "<text text-anchor=\"middle\" x=\"433.5\" y=\"-1166.8\" font-family=\"Helvetica,sans-Serif\" font-size=\"14.00\">entropy = 0.146</text>\r\n",
       "<text text-anchor=\"middle\" x=\"433.5\" y=\"-1151.8\" font-family=\"Helvetica,sans-Serif\" font-size=\"14.00\">samples = 336</text>\r\n",
       "<text text-anchor=\"middle\" x=\"433.5\" y=\"-1136.8\" font-family=\"Helvetica,sans-Serif\" font-size=\"14.00\">value = [329, 7]</text>\r\n",
       "</g>\r\n",
       "<!-- 0&#45;&gt;1 -->\r\n",
       "<g id=\"edge1\" class=\"edge\"><title>0&#45;&gt;1</title>\r\n",
       "<path fill=\"none\" stroke=\"black\" d=\"M523.319,-1232.88C511.123,-1223.53 497.73,-1213.26 485.094,-1203.57\"/>\r\n",
       "<polygon fill=\"black\" stroke=\"black\" points=\"486.985,-1200.61 476.92,-1197.3 482.725,-1206.16 486.985,-1200.61\"/>\r\n",
       "<text text-anchor=\"middle\" x=\"480.189\" y=\"-1218.38\" font-family=\"Helvetica,sans-Serif\" font-size=\"14.00\">True</text>\r\n",
       "</g>\r\n",
       "<!-- 12 -->\r\n",
       "<g id=\"node13\" class=\"node\"><title>12</title>\r\n",
       "<path fill=\"#59ade9\" stroke=\"black\" d=\"M800.5,-1197C800.5,-1197 702.5,-1197 702.5,-1197 696.5,-1197 690.5,-1191 690.5,-1185 690.5,-1185 690.5,-1141 690.5,-1141 690.5,-1135 696.5,-1129 702.5,-1129 702.5,-1129 800.5,-1129 800.5,-1129 806.5,-1129 812.5,-1135 812.5,-1141 812.5,-1141 812.5,-1185 812.5,-1185 812.5,-1191 806.5,-1197 800.5,-1197\"/>\r\n",
       "<text text-anchor=\"middle\" x=\"751.5\" y=\"-1181.8\" font-family=\"Helvetica,sans-Serif\" font-size=\"14.00\">X[1] &lt;= 0.406</text>\r\n",
       "<text text-anchor=\"middle\" x=\"751.5\" y=\"-1166.8\" font-family=\"Helvetica,sans-Serif\" font-size=\"14.00\">entropy = 0.582</text>\r\n",
       "<text text-anchor=\"middle\" x=\"751.5\" y=\"-1151.8\" font-family=\"Helvetica,sans-Serif\" font-size=\"14.00\">samples = 223</text>\r\n",
       "<text text-anchor=\"middle\" x=\"751.5\" y=\"-1136.8\" font-family=\"Helvetica,sans-Serif\" font-size=\"14.00\">value = [31, 192]</text>\r\n",
       "</g>\r\n",
       "<!-- 0&#45;&gt;12 -->\r\n",
       "<g id=\"edge12\" class=\"edge\"><title>0&#45;&gt;12</title>\r\n",
       "<path fill=\"none\" stroke=\"black\" d=\"M626.564,-1232.88C644.426,-1223.04 664.135,-1212.17 682.517,-1202.03\"/>\r\n",
       "<polygon fill=\"black\" stroke=\"black\" points=\"684.354,-1205.02 691.421,-1197.12 680.974,-1198.89 684.354,-1205.02\"/>\r\n",
       "<text text-anchor=\"middle\" x=\"684.475\" y=\"-1217.44\" font-family=\"Helvetica,sans-Serif\" font-size=\"14.00\">False</text>\r\n",
       "</g>\r\n",
       "<!-- 2 -->\r\n",
       "<g id=\"node3\" class=\"node\"><title>2</title>\r\n",
       "<path fill=\"#e5813a\" stroke=\"black\" d=\"M234,-1093C234,-1093 145,-1093 145,-1093 139,-1093 133,-1087 133,-1081 133,-1081 133,-1037 133,-1037 133,-1031 139,-1025 145,-1025 145,-1025 234,-1025 234,-1025 240,-1025 246,-1031 246,-1037 246,-1037 246,-1081 246,-1081 246,-1087 240,-1093 234,-1093\"/>\r\n",
       "<text text-anchor=\"middle\" x=\"189.5\" y=\"-1077.8\" font-family=\"Helvetica,sans-Serif\" font-size=\"14.00\">X[0] &lt;= 0.717</text>\r\n",
       "<text text-anchor=\"middle\" x=\"189.5\" y=\"-1062.8\" font-family=\"Helvetica,sans-Serif\" font-size=\"14.00\">entropy = 0.03</text>\r\n",
       "<text text-anchor=\"middle\" x=\"189.5\" y=\"-1047.8\" font-family=\"Helvetica,sans-Serif\" font-size=\"14.00\">samples = 325</text>\r\n",
       "<text text-anchor=\"middle\" x=\"189.5\" y=\"-1032.8\" font-family=\"Helvetica,sans-Serif\" font-size=\"14.00\">value = [324, 1]</text>\r\n",
       "</g>\r\n",
       "<!-- 1&#45;&gt;2 -->\r\n",
       "<g id=\"edge2\" class=\"edge\"><title>1&#45;&gt;2</title>\r\n",
       "<path fill=\"none\" stroke=\"black\" d=\"M375.366,-1137.7C339.371,-1122.65 293.047,-1103.29 255.65,-1087.65\"/>\r\n",
       "<polygon fill=\"black\" stroke=\"black\" points=\"256.923,-1084.39 246.347,-1083.76 254.223,-1090.85 256.923,-1084.39\"/>\r\n",
       "</g>\r\n",
       "<!-- 7 -->\r\n",
       "<g id=\"node8\" class=\"node\"><title>7</title>\r\n",
       "<path fill=\"#deeffb\" stroke=\"black\" d=\"M479.5,-1093C479.5,-1093 387.5,-1093 387.5,-1093 381.5,-1093 375.5,-1087 375.5,-1081 375.5,-1081 375.5,-1037 375.5,-1037 375.5,-1031 381.5,-1025 387.5,-1025 387.5,-1025 479.5,-1025 479.5,-1025 485.5,-1025 491.5,-1031 491.5,-1037 491.5,-1037 491.5,-1081 491.5,-1081 491.5,-1087 485.5,-1093 479.5,-1093\"/>\r\n",
       "<text text-anchor=\"middle\" x=\"433.5\" y=\"-1077.8\" font-family=\"Helvetica,sans-Serif\" font-size=\"14.00\">X[2] &lt;= &#45;0.27</text>\r\n",
       "<text text-anchor=\"middle\" x=\"433.5\" y=\"-1062.8\" font-family=\"Helvetica,sans-Serif\" font-size=\"14.00\">entropy = 0.994</text>\r\n",
       "<text text-anchor=\"middle\" x=\"433.5\" y=\"-1047.8\" font-family=\"Helvetica,sans-Serif\" font-size=\"14.00\">samples = 11</text>\r\n",
       "<text text-anchor=\"middle\" x=\"433.5\" y=\"-1032.8\" font-family=\"Helvetica,sans-Serif\" font-size=\"14.00\">value = [5, 6]</text>\r\n",
       "</g>\r\n",
       "<!-- 1&#45;&gt;7 -->\r\n",
       "<g id=\"edge7\" class=\"edge\"><title>1&#45;&gt;7</title>\r\n",
       "<path fill=\"none\" stroke=\"black\" d=\"M433.5,-1128.88C433.5,-1120.78 433.5,-1111.98 433.5,-1103.47\"/>\r\n",
       "<polygon fill=\"black\" stroke=\"black\" points=\"437,-1103.3 433.5,-1093.3 430,-1103.3 437,-1103.3\"/>\r\n",
       "</g>\r\n",
       "<!-- 3 -->\r\n",
       "<g id=\"node4\" class=\"node\"><title>3</title>\r\n",
       "<path fill=\"#e58139\" stroke=\"black\" d=\"M101,-981.5C101,-981.5 12,-981.5 12,-981.5 6,-981.5 0,-975.5 0,-969.5 0,-969.5 0,-940.5 0,-940.5 0,-934.5 6,-928.5 12,-928.5 12,-928.5 101,-928.5 101,-928.5 107,-928.5 113,-934.5 113,-940.5 113,-940.5 113,-969.5 113,-969.5 113,-975.5 107,-981.5 101,-981.5\"/>\r\n",
       "<text text-anchor=\"middle\" x=\"56.5\" y=\"-966.3\" font-family=\"Helvetica,sans-Serif\" font-size=\"14.00\">entropy = 0.0</text>\r\n",
       "<text text-anchor=\"middle\" x=\"56.5\" y=\"-951.3\" font-family=\"Helvetica,sans-Serif\" font-size=\"14.00\">samples = 322</text>\r\n",
       "<text text-anchor=\"middle\" x=\"56.5\" y=\"-936.3\" font-family=\"Helvetica,sans-Serif\" font-size=\"14.00\">value = [322, 0]</text>\r\n",
       "</g>\r\n",
       "<!-- 2&#45;&gt;3 -->\r\n",
       "<g id=\"edge3\" class=\"edge\"><title>2&#45;&gt;3</title>\r\n",
       "<path fill=\"none\" stroke=\"black\" d=\"M146.319,-1024.88C130.831,-1013.01 113.411,-999.646 98.0638,-987.876\"/>\r\n",
       "<polygon fill=\"black\" stroke=\"black\" points=\"99.8411,-984.828 89.776,-981.52 95.5811,-990.383 99.8411,-984.828\"/>\r\n",
       "</g>\r\n",
       "<!-- 4 -->\r\n",
       "<g id=\"node5\" class=\"node\"><title>4</title>\r\n",
       "<path fill=\"#f2c09c\" stroke=\"black\" d=\"M235.5,-989C235.5,-989 143.5,-989 143.5,-989 137.5,-989 131.5,-983 131.5,-977 131.5,-977 131.5,-933 131.5,-933 131.5,-927 137.5,-921 143.5,-921 143.5,-921 235.5,-921 235.5,-921 241.5,-921 247.5,-927 247.5,-933 247.5,-933 247.5,-977 247.5,-977 247.5,-983 241.5,-989 235.5,-989\"/>\r\n",
       "<text text-anchor=\"middle\" x=\"189.5\" y=\"-973.8\" font-family=\"Helvetica,sans-Serif\" font-size=\"14.00\">X[7] &lt;= &#45;0.303</text>\r\n",
       "<text text-anchor=\"middle\" x=\"189.5\" y=\"-958.8\" font-family=\"Helvetica,sans-Serif\" font-size=\"14.00\">entropy = 0.918</text>\r\n",
       "<text text-anchor=\"middle\" x=\"189.5\" y=\"-943.8\" font-family=\"Helvetica,sans-Serif\" font-size=\"14.00\">samples = 3</text>\r\n",
       "<text text-anchor=\"middle\" x=\"189.5\" y=\"-928.8\" font-family=\"Helvetica,sans-Serif\" font-size=\"14.00\">value = [2, 1]</text>\r\n",
       "</g>\r\n",
       "<!-- 2&#45;&gt;4 -->\r\n",
       "<g id=\"edge4\" class=\"edge\"><title>2&#45;&gt;4</title>\r\n",
       "<path fill=\"none\" stroke=\"black\" d=\"M189.5,-1024.88C189.5,-1016.78 189.5,-1007.98 189.5,-999.472\"/>\r\n",
       "<polygon fill=\"black\" stroke=\"black\" points=\"193,-999.299 189.5,-989.299 186,-999.299 193,-999.299\"/>\r\n",
       "</g>\r\n",
       "<!-- 5 -->\r\n",
       "<g id=\"node6\" class=\"node\"><title>5</title>\r\n",
       "<path fill=\"#e58139\" stroke=\"black\" d=\"M109.5,-877.5C109.5,-877.5 33.5,-877.5 33.5,-877.5 27.5,-877.5 21.5,-871.5 21.5,-865.5 21.5,-865.5 21.5,-836.5 21.5,-836.5 21.5,-830.5 27.5,-824.5 33.5,-824.5 33.5,-824.5 109.5,-824.5 109.5,-824.5 115.5,-824.5 121.5,-830.5 121.5,-836.5 121.5,-836.5 121.5,-865.5 121.5,-865.5 121.5,-871.5 115.5,-877.5 109.5,-877.5\"/>\r\n",
       "<text text-anchor=\"middle\" x=\"71.5\" y=\"-862.3\" font-family=\"Helvetica,sans-Serif\" font-size=\"14.00\">entropy = 0.0</text>\r\n",
       "<text text-anchor=\"middle\" x=\"71.5\" y=\"-847.3\" font-family=\"Helvetica,sans-Serif\" font-size=\"14.00\">samples = 2</text>\r\n",
       "<text text-anchor=\"middle\" x=\"71.5\" y=\"-832.3\" font-family=\"Helvetica,sans-Serif\" font-size=\"14.00\">value = [2, 0]</text>\r\n",
       "</g>\r\n",
       "<!-- 4&#45;&gt;5 -->\r\n",
       "<g id=\"edge5\" class=\"edge\"><title>4&#45;&gt;5</title>\r\n",
       "<path fill=\"none\" stroke=\"black\" d=\"M151.189,-920.884C137.575,-909.116 122.279,-895.894 108.755,-884.203\"/>\r\n",
       "<polygon fill=\"black\" stroke=\"black\" points=\"110.877,-881.412 101.023,-877.52 106.3,-886.707 110.877,-881.412\"/>\r\n",
       "</g>\r\n",
       "<!-- 6 -->\r\n",
       "<g id=\"node7\" class=\"node\"><title>6</title>\r\n",
       "<path fill=\"#399de5\" stroke=\"black\" d=\"M227.5,-877.5C227.5,-877.5 151.5,-877.5 151.5,-877.5 145.5,-877.5 139.5,-871.5 139.5,-865.5 139.5,-865.5 139.5,-836.5 139.5,-836.5 139.5,-830.5 145.5,-824.5 151.5,-824.5 151.5,-824.5 227.5,-824.5 227.5,-824.5 233.5,-824.5 239.5,-830.5 239.5,-836.5 239.5,-836.5 239.5,-865.5 239.5,-865.5 239.5,-871.5 233.5,-877.5 227.5,-877.5\"/>\r\n",
       "<text text-anchor=\"middle\" x=\"189.5\" y=\"-862.3\" font-family=\"Helvetica,sans-Serif\" font-size=\"14.00\">entropy = 0.0</text>\r\n",
       "<text text-anchor=\"middle\" x=\"189.5\" y=\"-847.3\" font-family=\"Helvetica,sans-Serif\" font-size=\"14.00\">samples = 1</text>\r\n",
       "<text text-anchor=\"middle\" x=\"189.5\" y=\"-832.3\" font-family=\"Helvetica,sans-Serif\" font-size=\"14.00\">value = [0, 1]</text>\r\n",
       "</g>\r\n",
       "<!-- 4&#45;&gt;6 -->\r\n",
       "<g id=\"edge6\" class=\"edge\"><title>4&#45;&gt;6</title>\r\n",
       "<path fill=\"none\" stroke=\"black\" d=\"M189.5,-920.884C189.5,-910.326 189.5,-898.597 189.5,-887.854\"/>\r\n",
       "<polygon fill=\"black\" stroke=\"black\" points=\"193,-887.52 189.5,-877.52 186,-887.52 193,-887.52\"/>\r\n",
       "</g>\r\n",
       "<!-- 8 -->\r\n",
       "<g id=\"node9\" class=\"node\"><title>8</title>\r\n",
       "<path fill=\"#ea9a61\" stroke=\"black\" d=\"M414.5,-989C414.5,-989 330.5,-989 330.5,-989 324.5,-989 318.5,-983 318.5,-977 318.5,-977 318.5,-933 318.5,-933 318.5,-927 324.5,-921 330.5,-921 330.5,-921 414.5,-921 414.5,-921 420.5,-921 426.5,-927 426.5,-933 426.5,-933 426.5,-977 426.5,-977 426.5,-983 420.5,-989 414.5,-989\"/>\r\n",
       "<text text-anchor=\"middle\" x=\"372.5\" y=\"-973.8\" font-family=\"Helvetica,sans-Serif\" font-size=\"14.00\">X[8] &lt;= &#45;0.057</text>\r\n",
       "<text text-anchor=\"middle\" x=\"372.5\" y=\"-958.8\" font-family=\"Helvetica,sans-Serif\" font-size=\"14.00\">entropy = 0.65</text>\r\n",
       "<text text-anchor=\"middle\" x=\"372.5\" y=\"-943.8\" font-family=\"Helvetica,sans-Serif\" font-size=\"14.00\">samples = 6</text>\r\n",
       "<text text-anchor=\"middle\" x=\"372.5\" y=\"-928.8\" font-family=\"Helvetica,sans-Serif\" font-size=\"14.00\">value = [5, 1]</text>\r\n",
       "</g>\r\n",
       "<!-- 7&#45;&gt;8 -->\r\n",
       "<g id=\"edge8\" class=\"edge\"><title>7&#45;&gt;8</title>\r\n",
       "<path fill=\"none\" stroke=\"black\" d=\"M413.695,-1024.88C408.581,-1016.33 403.008,-1007.01 397.661,-998.072\"/>\r\n",
       "<polygon fill=\"black\" stroke=\"black\" points=\"400.551,-996.085 392.414,-989.299 394.543,-999.678 400.551,-996.085\"/>\r\n",
       "</g>\r\n",
       "<!-- 11 -->\r\n",
       "<g id=\"node12\" class=\"node\"><title>11</title>\r\n",
       "<path fill=\"#399de5\" stroke=\"black\" d=\"M532.5,-981.5C532.5,-981.5 456.5,-981.5 456.5,-981.5 450.5,-981.5 444.5,-975.5 444.5,-969.5 444.5,-969.5 444.5,-940.5 444.5,-940.5 444.5,-934.5 450.5,-928.5 456.5,-928.5 456.5,-928.5 532.5,-928.5 532.5,-928.5 538.5,-928.5 544.5,-934.5 544.5,-940.5 544.5,-940.5 544.5,-969.5 544.5,-969.5 544.5,-975.5 538.5,-981.5 532.5,-981.5\"/>\r\n",
       "<text text-anchor=\"middle\" x=\"494.5\" y=\"-966.3\" font-family=\"Helvetica,sans-Serif\" font-size=\"14.00\">entropy = 0.0</text>\r\n",
       "<text text-anchor=\"middle\" x=\"494.5\" y=\"-951.3\" font-family=\"Helvetica,sans-Serif\" font-size=\"14.00\">samples = 5</text>\r\n",
       "<text text-anchor=\"middle\" x=\"494.5\" y=\"-936.3\" font-family=\"Helvetica,sans-Serif\" font-size=\"14.00\">value = [0, 5]</text>\r\n",
       "</g>\r\n",
       "<!-- 7&#45;&gt;11 -->\r\n",
       "<g id=\"edge11\" class=\"edge\"><title>7&#45;&gt;11</title>\r\n",
       "<path fill=\"none\" stroke=\"black\" d=\"M453.305,-1024.88C459.948,-1013.78 467.366,-1001.37 474.057,-990.184\"/>\r\n",
       "<polygon fill=\"black\" stroke=\"black\" points=\"477.109,-991.899 479.238,-981.52 471.102,-988.306 477.109,-991.899\"/>\r\n",
       "</g>\r\n",
       "<!-- 9 -->\r\n",
       "<g id=\"node10\" class=\"node\"><title>9</title>\r\n",
       "<path fill=\"#e58139\" stroke=\"black\" d=\"M345.5,-877.5C345.5,-877.5 269.5,-877.5 269.5,-877.5 263.5,-877.5 257.5,-871.5 257.5,-865.5 257.5,-865.5 257.5,-836.5 257.5,-836.5 257.5,-830.5 263.5,-824.5 269.5,-824.5 269.5,-824.5 345.5,-824.5 345.5,-824.5 351.5,-824.5 357.5,-830.5 357.5,-836.5 357.5,-836.5 357.5,-865.5 357.5,-865.5 357.5,-871.5 351.5,-877.5 345.5,-877.5\"/>\r\n",
       "<text text-anchor=\"middle\" x=\"307.5\" y=\"-862.3\" font-family=\"Helvetica,sans-Serif\" font-size=\"14.00\">entropy = 0.0</text>\r\n",
       "<text text-anchor=\"middle\" x=\"307.5\" y=\"-847.3\" font-family=\"Helvetica,sans-Serif\" font-size=\"14.00\">samples = 5</text>\r\n",
       "<text text-anchor=\"middle\" x=\"307.5\" y=\"-832.3\" font-family=\"Helvetica,sans-Serif\" font-size=\"14.00\">value = [5, 0]</text>\r\n",
       "</g>\r\n",
       "<!-- 8&#45;&gt;9 -->\r\n",
       "<g id=\"edge9\" class=\"edge\"><title>8&#45;&gt;9</title>\r\n",
       "<path fill=\"none\" stroke=\"black\" d=\"M351.396,-920.884C344.318,-909.776 336.413,-897.372 329.284,-886.184\"/>\r\n",
       "<polygon fill=\"black\" stroke=\"black\" points=\"332.088,-884.072 323.763,-877.52 326.185,-887.834 332.088,-884.072\"/>\r\n",
       "</g>\r\n",
       "<!-- 10 -->\r\n",
       "<g id=\"node11\" class=\"node\"><title>10</title>\r\n",
       "<path fill=\"#399de5\" stroke=\"black\" d=\"M463.5,-877.5C463.5,-877.5 387.5,-877.5 387.5,-877.5 381.5,-877.5 375.5,-871.5 375.5,-865.5 375.5,-865.5 375.5,-836.5 375.5,-836.5 375.5,-830.5 381.5,-824.5 387.5,-824.5 387.5,-824.5 463.5,-824.5 463.5,-824.5 469.5,-824.5 475.5,-830.5 475.5,-836.5 475.5,-836.5 475.5,-865.5 475.5,-865.5 475.5,-871.5 469.5,-877.5 463.5,-877.5\"/>\r\n",
       "<text text-anchor=\"middle\" x=\"425.5\" y=\"-862.3\" font-family=\"Helvetica,sans-Serif\" font-size=\"14.00\">entropy = 0.0</text>\r\n",
       "<text text-anchor=\"middle\" x=\"425.5\" y=\"-847.3\" font-family=\"Helvetica,sans-Serif\" font-size=\"14.00\">samples = 1</text>\r\n",
       "<text text-anchor=\"middle\" x=\"425.5\" y=\"-832.3\" font-family=\"Helvetica,sans-Serif\" font-size=\"14.00\">value = [0, 1]</text>\r\n",
       "</g>\r\n",
       "<!-- 8&#45;&gt;10 -->\r\n",
       "<g id=\"edge10\" class=\"edge\"><title>8&#45;&gt;10</title>\r\n",
       "<path fill=\"none\" stroke=\"black\" d=\"M389.708,-920.884C395.422,-909.886 401.797,-897.617 407.565,-886.517\"/>\r\n",
       "<polygon fill=\"black\" stroke=\"black\" points=\"410.735,-888.007 412.24,-877.52 404.523,-884.78 410.735,-888.007\"/>\r\n",
       "</g>\r\n",
       "<!-- 13 -->\r\n",
       "<g id=\"node14\" class=\"node\"><title>13</title>\r\n",
       "<path fill=\"#aed7f4\" stroke=\"black\" d=\"M797.5,-1093C797.5,-1093 705.5,-1093 705.5,-1093 699.5,-1093 693.5,-1087 693.5,-1081 693.5,-1081 693.5,-1037 693.5,-1037 693.5,-1031 699.5,-1025 705.5,-1025 705.5,-1025 797.5,-1025 797.5,-1025 803.5,-1025 809.5,-1031 809.5,-1037 809.5,-1037 809.5,-1081 809.5,-1081 809.5,-1087 803.5,-1093 797.5,-1093\"/>\r\n",
       "<text text-anchor=\"middle\" x=\"751.5\" y=\"-1077.8\" font-family=\"Helvetica,sans-Serif\" font-size=\"14.00\">X[5] &lt;= 1.061</text>\r\n",
       "<text text-anchor=\"middle\" x=\"751.5\" y=\"-1062.8\" font-family=\"Helvetica,sans-Serif\" font-size=\"14.00\">entropy = 0.952</text>\r\n",
       "<text text-anchor=\"middle\" x=\"751.5\" y=\"-1047.8\" font-family=\"Helvetica,sans-Serif\" font-size=\"14.00\">samples = 70</text>\r\n",
       "<text text-anchor=\"middle\" x=\"751.5\" y=\"-1032.8\" font-family=\"Helvetica,sans-Serif\" font-size=\"14.00\">value = [26, 44]</text>\r\n",
       "</g>\r\n",
       "<!-- 12&#45;&gt;13 -->\r\n",
       "<g id=\"edge13\" class=\"edge\"><title>12&#45;&gt;13</title>\r\n",
       "<path fill=\"none\" stroke=\"black\" d=\"M751.5,-1128.88C751.5,-1120.78 751.5,-1111.98 751.5,-1103.47\"/>\r\n",
       "<polygon fill=\"black\" stroke=\"black\" points=\"755,-1103.3 751.5,-1093.3 748,-1103.3 755,-1103.3\"/>\r\n",
       "</g>\r\n",
       "<!-- 40 -->\r\n",
       "<g id=\"node41\" class=\"node\"><title>40</title>\r\n",
       "<path fill=\"#40a0e6\" stroke=\"black\" d=\"M1205.5,-1093C1205.5,-1093 1113.5,-1093 1113.5,-1093 1107.5,-1093 1101.5,-1087 1101.5,-1081 1101.5,-1081 1101.5,-1037 1101.5,-1037 1101.5,-1031 1107.5,-1025 1113.5,-1025 1113.5,-1025 1205.5,-1025 1205.5,-1025 1211.5,-1025 1217.5,-1031 1217.5,-1037 1217.5,-1037 1217.5,-1081 1217.5,-1081 1217.5,-1087 1211.5,-1093 1205.5,-1093\"/>\r\n",
       "<text text-anchor=\"middle\" x=\"1159.5\" y=\"-1077.8\" font-family=\"Helvetica,sans-Serif\" font-size=\"14.00\">X[5] &lt;= 1.333</text>\r\n",
       "<text text-anchor=\"middle\" x=\"1159.5\" y=\"-1062.8\" font-family=\"Helvetica,sans-Serif\" font-size=\"14.00\">entropy = 0.208</text>\r\n",
       "<text text-anchor=\"middle\" x=\"1159.5\" y=\"-1047.8\" font-family=\"Helvetica,sans-Serif\" font-size=\"14.00\">samples = 153</text>\r\n",
       "<text text-anchor=\"middle\" x=\"1159.5\" y=\"-1032.8\" font-family=\"Helvetica,sans-Serif\" font-size=\"14.00\">value = [5, 148]</text>\r\n",
       "</g>\r\n",
       "<!-- 12&#45;&gt;40 -->\r\n",
       "<g id=\"edge40\" class=\"edge\"><title>12&#45;&gt;40</title>\r\n",
       "<path fill=\"none\" stroke=\"black\" d=\"M812.582,-1146.73C887.409,-1128.02 1013.79,-1096.43 1091.6,-1076.97\"/>\r\n",
       "<polygon fill=\"black\" stroke=\"black\" points=\"1092.46,-1080.37 1101.31,-1074.55 1090.76,-1073.58 1092.46,-1080.37\"/>\r\n",
       "</g>\r\n",
       "<!-- 14 -->\r\n",
       "<g id=\"node15\" class=\"node\"><title>14</title>\r\n",
       "<path fill=\"#f4c8a8\" stroke=\"black\" d=\"M730.5,-989C730.5,-989 638.5,-989 638.5,-989 632.5,-989 626.5,-983 626.5,-977 626.5,-977 626.5,-933 626.5,-933 626.5,-927 632.5,-921 638.5,-921 638.5,-921 730.5,-921 730.5,-921 736.5,-921 742.5,-927 742.5,-933 742.5,-933 742.5,-977 742.5,-977 742.5,-983 736.5,-989 730.5,-989\"/>\r\n",
       "<text text-anchor=\"middle\" x=\"684.5\" y=\"-973.8\" font-family=\"Helvetica,sans-Serif\" font-size=\"14.00\">X[7] &lt;= &#45;0.14</text>\r\n",
       "<text text-anchor=\"middle\" x=\"684.5\" y=\"-958.8\" font-family=\"Helvetica,sans-Serif\" font-size=\"14.00\">entropy = 0.942</text>\r\n",
       "<text text-anchor=\"middle\" x=\"684.5\" y=\"-943.8\" font-family=\"Helvetica,sans-Serif\" font-size=\"14.00\">samples = 39</text>\r\n",
       "<text text-anchor=\"middle\" x=\"684.5\" y=\"-928.8\" font-family=\"Helvetica,sans-Serif\" font-size=\"14.00\">value = [25, 14]</text>\r\n",
       "</g>\r\n",
       "<!-- 13&#45;&gt;14 -->\r\n",
       "<g id=\"edge14\" class=\"edge\"><title>13&#45;&gt;14</title>\r\n",
       "<path fill=\"none\" stroke=\"black\" d=\"M729.747,-1024.88C724.072,-1016.24 717.881,-1006.82 711.952,-997.793\"/>\r\n",
       "<polygon fill=\"black\" stroke=\"black\" points=\"714.789,-995.736 706.373,-989.299 708.938,-999.579 714.789,-995.736\"/>\r\n",
       "</g>\r\n",
       "<!-- 35 -->\r\n",
       "<g id=\"node36\" class=\"node\"><title>35</title>\r\n",
       "<path fill=\"#40a0e6\" stroke=\"black\" d=\"M864.5,-989C864.5,-989 772.5,-989 772.5,-989 766.5,-989 760.5,-983 760.5,-977 760.5,-977 760.5,-933 760.5,-933 760.5,-927 766.5,-921 772.5,-921 772.5,-921 864.5,-921 864.5,-921 870.5,-921 876.5,-927 876.5,-933 876.5,-933 876.5,-977 876.5,-977 876.5,-983 870.5,-989 864.5,-989\"/>\r\n",
       "<text text-anchor=\"middle\" x=\"818.5\" y=\"-973.8\" font-family=\"Helvetica,sans-Serif\" font-size=\"14.00\">X[8] &lt;= 0.526</text>\r\n",
       "<text text-anchor=\"middle\" x=\"818.5\" y=\"-958.8\" font-family=\"Helvetica,sans-Serif\" font-size=\"14.00\">entropy = 0.206</text>\r\n",
       "<text text-anchor=\"middle\" x=\"818.5\" y=\"-943.8\" font-family=\"Helvetica,sans-Serif\" font-size=\"14.00\">samples = 31</text>\r\n",
       "<text text-anchor=\"middle\" x=\"818.5\" y=\"-928.8\" font-family=\"Helvetica,sans-Serif\" font-size=\"14.00\">value = [1, 30]</text>\r\n",
       "</g>\r\n",
       "<!-- 13&#45;&gt;35 -->\r\n",
       "<g id=\"edge35\" class=\"edge\"><title>13&#45;&gt;35</title>\r\n",
       "<path fill=\"none\" stroke=\"black\" d=\"M773.253,-1024.88C778.928,-1016.24 785.119,-1006.82 791.048,-997.793\"/>\r\n",
       "<polygon fill=\"black\" stroke=\"black\" points=\"794.062,-999.579 796.627,-989.299 788.211,-995.736 794.062,-999.579\"/>\r\n",
       "</g>\r\n",
       "<!-- 15 -->\r\n",
       "<g id=\"node16\" class=\"node\"><title>15</title>\r\n",
       "<path fill=\"#e78945\" stroke=\"black\" d=\"M597.5,-885C597.5,-885 505.5,-885 505.5,-885 499.5,-885 493.5,-879 493.5,-873 493.5,-873 493.5,-829 493.5,-829 493.5,-823 499.5,-817 505.5,-817 505.5,-817 597.5,-817 597.5,-817 603.5,-817 609.5,-823 609.5,-829 609.5,-829 609.5,-873 609.5,-873 609.5,-879 603.5,-885 597.5,-885\"/>\r\n",
       "<text text-anchor=\"middle\" x=\"551.5\" y=\"-869.8\" font-family=\"Helvetica,sans-Serif\" font-size=\"14.00\">X[8] &lt;= 1.981</text>\r\n",
       "<text text-anchor=\"middle\" x=\"551.5\" y=\"-854.8\" font-family=\"Helvetica,sans-Serif\" font-size=\"14.00\">entropy = 0.323</text>\r\n",
       "<text text-anchor=\"middle\" x=\"551.5\" y=\"-839.8\" font-family=\"Helvetica,sans-Serif\" font-size=\"14.00\">samples = 17</text>\r\n",
       "<text text-anchor=\"middle\" x=\"551.5\" y=\"-824.8\" font-family=\"Helvetica,sans-Serif\" font-size=\"14.00\">value = [16, 1]</text>\r\n",
       "</g>\r\n",
       "<!-- 14&#45;&gt;15 -->\r\n",
       "<g id=\"edge15\" class=\"edge\"><title>14&#45;&gt;15</title>\r\n",
       "<path fill=\"none\" stroke=\"black\" d=\"M641.319,-920.884C629.123,-911.531 615.73,-901.259 603.094,-891.568\"/>\r\n",
       "<polygon fill=\"black\" stroke=\"black\" points=\"604.985,-888.608 594.92,-885.299 600.725,-894.162 604.985,-888.608\"/>\r\n",
       "</g>\r\n",
       "<!-- 18 -->\r\n",
       "<g id=\"node19\" class=\"node\"><title>18</title>\r\n",
       "<path fill=\"#c2e1f7\" stroke=\"black\" d=\"M731.5,-885C731.5,-885 639.5,-885 639.5,-885 633.5,-885 627.5,-879 627.5,-873 627.5,-873 627.5,-829 627.5,-829 627.5,-823 633.5,-817 639.5,-817 639.5,-817 731.5,-817 731.5,-817 737.5,-817 743.5,-823 743.5,-829 743.5,-829 743.5,-873 743.5,-873 743.5,-879 737.5,-885 731.5,-885\"/>\r\n",
       "<text text-anchor=\"middle\" x=\"685.5\" y=\"-869.8\" font-family=\"Helvetica,sans-Serif\" font-size=\"14.00\">X[4] &lt;= 1.424</text>\r\n",
       "<text text-anchor=\"middle\" x=\"685.5\" y=\"-854.8\" font-family=\"Helvetica,sans-Serif\" font-size=\"14.00\">entropy = 0.976</text>\r\n",
       "<text text-anchor=\"middle\" x=\"685.5\" y=\"-839.8\" font-family=\"Helvetica,sans-Serif\" font-size=\"14.00\">samples = 22</text>\r\n",
       "<text text-anchor=\"middle\" x=\"685.5\" y=\"-824.8\" font-family=\"Helvetica,sans-Serif\" font-size=\"14.00\">value = [9, 13]</text>\r\n",
       "</g>\r\n",
       "<!-- 14&#45;&gt;18 -->\r\n",
       "<g id=\"edge18\" class=\"edge\"><title>14&#45;&gt;18</title>\r\n",
       "<path fill=\"none\" stroke=\"black\" d=\"M684.825,-920.884C684.904,-912.778 684.99,-903.982 685.074,-895.472\"/>\r\n",
       "<polygon fill=\"black\" stroke=\"black\" points=\"688.575,-895.333 685.174,-885.299 681.576,-895.265 688.575,-895.333\"/>\r\n",
       "</g>\r\n",
       "<!-- 16 -->\r\n",
       "<g id=\"node17\" class=\"node\"><title>16</title>\r\n",
       "<path fill=\"#e58139\" stroke=\"black\" d=\"M471,-773.5C471,-773.5 390,-773.5 390,-773.5 384,-773.5 378,-767.5 378,-761.5 378,-761.5 378,-732.5 378,-732.5 378,-726.5 384,-720.5 390,-720.5 390,-720.5 471,-720.5 471,-720.5 477,-720.5 483,-726.5 483,-732.5 483,-732.5 483,-761.5 483,-761.5 483,-767.5 477,-773.5 471,-773.5\"/>\r\n",
       "<text text-anchor=\"middle\" x=\"430.5\" y=\"-758.3\" font-family=\"Helvetica,sans-Serif\" font-size=\"14.00\">entropy = 0.0</text>\r\n",
       "<text text-anchor=\"middle\" x=\"430.5\" y=\"-743.3\" font-family=\"Helvetica,sans-Serif\" font-size=\"14.00\">samples = 16</text>\r\n",
       "<text text-anchor=\"middle\" x=\"430.5\" y=\"-728.3\" font-family=\"Helvetica,sans-Serif\" font-size=\"14.00\">value = [16, 0]</text>\r\n",
       "</g>\r\n",
       "<!-- 15&#45;&gt;16 -->\r\n",
       "<g id=\"edge16\" class=\"edge\"><title>15&#45;&gt;16</title>\r\n",
       "<path fill=\"none\" stroke=\"black\" d=\"M512.215,-816.884C498.255,-805.116 482.57,-791.894 468.702,-780.203\"/>\r\n",
       "<polygon fill=\"black\" stroke=\"black\" points=\"470.675,-777.289 460.774,-773.52 466.164,-782.641 470.675,-777.289\"/>\r\n",
       "</g>\r\n",
       "<!-- 17 -->\r\n",
       "<g id=\"node18\" class=\"node\"><title>17</title>\r\n",
       "<path fill=\"#399de5\" stroke=\"black\" d=\"M589.5,-773.5C589.5,-773.5 513.5,-773.5 513.5,-773.5 507.5,-773.5 501.5,-767.5 501.5,-761.5 501.5,-761.5 501.5,-732.5 501.5,-732.5 501.5,-726.5 507.5,-720.5 513.5,-720.5 513.5,-720.5 589.5,-720.5 589.5,-720.5 595.5,-720.5 601.5,-726.5 601.5,-732.5 601.5,-732.5 601.5,-761.5 601.5,-761.5 601.5,-767.5 595.5,-773.5 589.5,-773.5\"/>\r\n",
       "<text text-anchor=\"middle\" x=\"551.5\" y=\"-758.3\" font-family=\"Helvetica,sans-Serif\" font-size=\"14.00\">entropy = 0.0</text>\r\n",
       "<text text-anchor=\"middle\" x=\"551.5\" y=\"-743.3\" font-family=\"Helvetica,sans-Serif\" font-size=\"14.00\">samples = 1</text>\r\n",
       "<text text-anchor=\"middle\" x=\"551.5\" y=\"-728.3\" font-family=\"Helvetica,sans-Serif\" font-size=\"14.00\">value = [0, 1]</text>\r\n",
       "</g>\r\n",
       "<!-- 15&#45;&gt;17 -->\r\n",
       "<g id=\"edge17\" class=\"edge\"><title>15&#45;&gt;17</title>\r\n",
       "<path fill=\"none\" stroke=\"black\" d=\"M551.5,-816.884C551.5,-806.326 551.5,-794.597 551.5,-783.854\"/>\r\n",
       "<polygon fill=\"black\" stroke=\"black\" points=\"555,-783.52 551.5,-773.52 548,-783.52 555,-783.52\"/>\r\n",
       "</g>\r\n",
       "<!-- 19 -->\r\n",
       "<g id=\"node20\" class=\"node\"><title>19</title>\r\n",
       "<path fill=\"#a4d2f3\" stroke=\"black\" d=\"M723.5,-781C723.5,-781 631.5,-781 631.5,-781 625.5,-781 619.5,-775 619.5,-769 619.5,-769 619.5,-725 619.5,-725 619.5,-719 625.5,-713 631.5,-713 631.5,-713 723.5,-713 723.5,-713 729.5,-713 735.5,-719 735.5,-725 735.5,-725 735.5,-769 735.5,-769 735.5,-775 729.5,-781 723.5,-781\"/>\r\n",
       "<text text-anchor=\"middle\" x=\"677.5\" y=\"-765.8\" font-family=\"Helvetica,sans-Serif\" font-size=\"14.00\">X[7] &lt;= 1.814</text>\r\n",
       "<text text-anchor=\"middle\" x=\"677.5\" y=\"-750.8\" font-family=\"Helvetica,sans-Serif\" font-size=\"14.00\">entropy = 0.934</text>\r\n",
       "<text text-anchor=\"middle\" x=\"677.5\" y=\"-735.8\" font-family=\"Helvetica,sans-Serif\" font-size=\"14.00\">samples = 20</text>\r\n",
       "<text text-anchor=\"middle\" x=\"677.5\" y=\"-720.8\" font-family=\"Helvetica,sans-Serif\" font-size=\"14.00\">value = [7, 13]</text>\r\n",
       "</g>\r\n",
       "<!-- 18&#45;&gt;19 -->\r\n",
       "<g id=\"edge19\" class=\"edge\"><title>18&#45;&gt;19</title>\r\n",
       "<path fill=\"none\" stroke=\"black\" d=\"M682.903,-816.884C682.267,-808.778 681.577,-799.982 680.91,-791.472\"/>\r\n",
       "<polygon fill=\"black\" stroke=\"black\" points=\"684.383,-790.995 680.112,-781.299 677.404,-791.542 684.383,-790.995\"/>\r\n",
       "</g>\r\n",
       "<!-- 34 -->\r\n",
       "<g id=\"node35\" class=\"node\"><title>34</title>\r\n",
       "<path fill=\"#e58139\" stroke=\"black\" d=\"M841.5,-773.5C841.5,-773.5 765.5,-773.5 765.5,-773.5 759.5,-773.5 753.5,-767.5 753.5,-761.5 753.5,-761.5 753.5,-732.5 753.5,-732.5 753.5,-726.5 759.5,-720.5 765.5,-720.5 765.5,-720.5 841.5,-720.5 841.5,-720.5 847.5,-720.5 853.5,-726.5 853.5,-732.5 853.5,-732.5 853.5,-761.5 853.5,-761.5 853.5,-767.5 847.5,-773.5 841.5,-773.5\"/>\r\n",
       "<text text-anchor=\"middle\" x=\"803.5\" y=\"-758.3\" font-family=\"Helvetica,sans-Serif\" font-size=\"14.00\">entropy = 0.0</text>\r\n",
       "<text text-anchor=\"middle\" x=\"803.5\" y=\"-743.3\" font-family=\"Helvetica,sans-Serif\" font-size=\"14.00\">samples = 2</text>\r\n",
       "<text text-anchor=\"middle\" x=\"803.5\" y=\"-728.3\" font-family=\"Helvetica,sans-Serif\" font-size=\"14.00\">value = [2, 0]</text>\r\n",
       "</g>\r\n",
       "<!-- 18&#45;&gt;34 -->\r\n",
       "<g id=\"edge34\" class=\"edge\"><title>18&#45;&gt;34</title>\r\n",
       "<path fill=\"none\" stroke=\"black\" d=\"M723.811,-816.884C737.425,-805.116 752.721,-791.894 766.245,-780.203\"/>\r\n",
       "<polygon fill=\"black\" stroke=\"black\" points=\"768.7,-782.707 773.977,-773.52 764.123,-777.412 768.7,-782.707\"/>\r\n",
       "</g>\r\n",
       "<!-- 20 -->\r\n",
       "<g id=\"node21\" class=\"node\"><title>20</title>\r\n",
       "<path fill=\"#c4e2f7\" stroke=\"black\" d=\"M611.5,-677C611.5,-677 519.5,-677 519.5,-677 513.5,-677 507.5,-671 507.5,-665 507.5,-665 507.5,-621 507.5,-621 507.5,-615 513.5,-609 519.5,-609 519.5,-609 611.5,-609 611.5,-609 617.5,-609 623.5,-615 623.5,-621 623.5,-621 623.5,-665 623.5,-665 623.5,-671 617.5,-677 611.5,-677\"/>\r\n",
       "<text text-anchor=\"middle\" x=\"565.5\" y=\"-661.8\" font-family=\"Helvetica,sans-Serif\" font-size=\"14.00\">X[7] &lt;= 1.163</text>\r\n",
       "<text text-anchor=\"middle\" x=\"565.5\" y=\"-646.8\" font-family=\"Helvetica,sans-Serif\" font-size=\"14.00\">entropy = 0.977</text>\r\n",
       "<text text-anchor=\"middle\" x=\"565.5\" y=\"-631.8\" font-family=\"Helvetica,sans-Serif\" font-size=\"14.00\">samples = 17</text>\r\n",
       "<text text-anchor=\"middle\" x=\"565.5\" y=\"-616.8\" font-family=\"Helvetica,sans-Serif\" font-size=\"14.00\">value = [7, 10]</text>\r\n",
       "</g>\r\n",
       "<!-- 19&#45;&gt;20 -->\r\n",
       "<g id=\"edge20\" class=\"edge\"><title>19&#45;&gt;20</title>\r\n",
       "<path fill=\"none\" stroke=\"black\" d=\"M641.137,-712.884C631.063,-703.709 620.018,-693.65 609.556,-684.123\"/>\r\n",
       "<polygon fill=\"black\" stroke=\"black\" points=\"611.814,-681.445 602.064,-677.299 607.101,-686.62 611.814,-681.445\"/>\r\n",
       "</g>\r\n",
       "<!-- 33 -->\r\n",
       "<g id=\"node34\" class=\"node\"><title>33</title>\r\n",
       "<path fill=\"#399de5\" stroke=\"black\" d=\"M729.5,-669.5C729.5,-669.5 653.5,-669.5 653.5,-669.5 647.5,-669.5 641.5,-663.5 641.5,-657.5 641.5,-657.5 641.5,-628.5 641.5,-628.5 641.5,-622.5 647.5,-616.5 653.5,-616.5 653.5,-616.5 729.5,-616.5 729.5,-616.5 735.5,-616.5 741.5,-622.5 741.5,-628.5 741.5,-628.5 741.5,-657.5 741.5,-657.5 741.5,-663.5 735.5,-669.5 729.5,-669.5\"/>\r\n",
       "<text text-anchor=\"middle\" x=\"691.5\" y=\"-654.3\" font-family=\"Helvetica,sans-Serif\" font-size=\"14.00\">entropy = 0.0</text>\r\n",
       "<text text-anchor=\"middle\" x=\"691.5\" y=\"-639.3\" font-family=\"Helvetica,sans-Serif\" font-size=\"14.00\">samples = 3</text>\r\n",
       "<text text-anchor=\"middle\" x=\"691.5\" y=\"-624.3\" font-family=\"Helvetica,sans-Serif\" font-size=\"14.00\">value = [0, 3]</text>\r\n",
       "</g>\r\n",
       "<!-- 19&#45;&gt;33 -->\r\n",
       "<g id=\"edge33\" class=\"edge\"><title>19&#45;&gt;33</title>\r\n",
       "<path fill=\"none\" stroke=\"black\" d=\"M682.045,-712.884C683.51,-702.216 685.138,-690.352 686.625,-679.519\"/>\r\n",
       "<polygon fill=\"black\" stroke=\"black\" points=\"690.105,-679.903 687.997,-669.52 683.17,-678.951 690.105,-679.903\"/>\r\n",
       "</g>\r\n",
       "<!-- 21 -->\r\n",
       "<g id=\"node22\" class=\"node\"><title>21</title>\r\n",
       "<path fill=\"#88c4ef\" stroke=\"black\" d=\"M603.5,-573C603.5,-573 511.5,-573 511.5,-573 505.5,-573 499.5,-567 499.5,-561 499.5,-561 499.5,-517 499.5,-517 499.5,-511 505.5,-505 511.5,-505 511.5,-505 603.5,-505 603.5,-505 609.5,-505 615.5,-511 615.5,-517 615.5,-517 615.5,-561 615.5,-561 615.5,-567 609.5,-573 603.5,-573\"/>\r\n",
       "<text text-anchor=\"middle\" x=\"557.5\" y=\"-557.8\" font-family=\"Helvetica,sans-Serif\" font-size=\"14.00\">X[0] &lt;= 1.612</text>\r\n",
       "<text text-anchor=\"middle\" x=\"557.5\" y=\"-542.8\" font-family=\"Helvetica,sans-Serif\" font-size=\"14.00\">entropy = 0.863</text>\r\n",
       "<text text-anchor=\"middle\" x=\"557.5\" y=\"-527.8\" font-family=\"Helvetica,sans-Serif\" font-size=\"14.00\">samples = 14</text>\r\n",
       "<text text-anchor=\"middle\" x=\"557.5\" y=\"-512.8\" font-family=\"Helvetica,sans-Serif\" font-size=\"14.00\">value = [4, 10]</text>\r\n",
       "</g>\r\n",
       "<!-- 20&#45;&gt;21 -->\r\n",
       "<g id=\"edge21\" class=\"edge\"><title>20&#45;&gt;21</title>\r\n",
       "<path fill=\"none\" stroke=\"black\" d=\"M562.903,-608.884C562.267,-600.778 561.577,-591.982 560.91,-583.472\"/>\r\n",
       "<polygon fill=\"black\" stroke=\"black\" points=\"564.383,-582.995 560.112,-573.299 557.404,-583.542 564.383,-582.995\"/>\r\n",
       "</g>\r\n",
       "<!-- 32 -->\r\n",
       "<g id=\"node33\" class=\"node\"><title>32</title>\r\n",
       "<path fill=\"#e58139\" stroke=\"black\" d=\"M721.5,-565.5C721.5,-565.5 645.5,-565.5 645.5,-565.5 639.5,-565.5 633.5,-559.5 633.5,-553.5 633.5,-553.5 633.5,-524.5 633.5,-524.5 633.5,-518.5 639.5,-512.5 645.5,-512.5 645.5,-512.5 721.5,-512.5 721.5,-512.5 727.5,-512.5 733.5,-518.5 733.5,-524.5 733.5,-524.5 733.5,-553.5 733.5,-553.5 733.5,-559.5 727.5,-565.5 721.5,-565.5\"/>\r\n",
       "<text text-anchor=\"middle\" x=\"683.5\" y=\"-550.3\" font-family=\"Helvetica,sans-Serif\" font-size=\"14.00\">entropy = 0.0</text>\r\n",
       "<text text-anchor=\"middle\" x=\"683.5\" y=\"-535.3\" font-family=\"Helvetica,sans-Serif\" font-size=\"14.00\">samples = 3</text>\r\n",
       "<text text-anchor=\"middle\" x=\"683.5\" y=\"-520.3\" font-family=\"Helvetica,sans-Serif\" font-size=\"14.00\">value = [3, 0]</text>\r\n",
       "</g>\r\n",
       "<!-- 20&#45;&gt;32 -->\r\n",
       "<g id=\"edge32\" class=\"edge\"><title>20&#45;&gt;32</title>\r\n",
       "<path fill=\"none\" stroke=\"black\" d=\"M603.811,-608.884C617.425,-597.116 632.721,-583.894 646.245,-572.203\"/>\r\n",
       "<polygon fill=\"black\" stroke=\"black\" points=\"648.7,-574.707 653.977,-565.52 644.123,-569.412 648.7,-574.707\"/>\r\n",
       "</g>\r\n",
       "<!-- 22 -->\r\n",
       "<g id=\"node23\" class=\"node\"><title>22</title>\r\n",
       "<path fill=\"#aad5f4\" stroke=\"black\" d=\"M601.5,-469C601.5,-469 509.5,-469 509.5,-469 503.5,-469 497.5,-463 497.5,-457 497.5,-457 497.5,-413 497.5,-413 497.5,-407 503.5,-401 509.5,-401 509.5,-401 601.5,-401 601.5,-401 607.5,-401 613.5,-407 613.5,-413 613.5,-413 613.5,-457 613.5,-457 613.5,-463 607.5,-469 601.5,-469\"/>\r\n",
       "<text text-anchor=\"middle\" x=\"555.5\" y=\"-453.8\" font-family=\"Helvetica,sans-Serif\" font-size=\"14.00\">X[2] &lt;= &#45;0.27</text>\r\n",
       "<text text-anchor=\"middle\" x=\"555.5\" y=\"-438.8\" font-family=\"Helvetica,sans-Serif\" font-size=\"14.00\">entropy = 0.946</text>\r\n",
       "<text text-anchor=\"middle\" x=\"555.5\" y=\"-423.8\" font-family=\"Helvetica,sans-Serif\" font-size=\"14.00\">samples = 11</text>\r\n",
       "<text text-anchor=\"middle\" x=\"555.5\" y=\"-408.8\" font-family=\"Helvetica,sans-Serif\" font-size=\"14.00\">value = [4, 7]</text>\r\n",
       "</g>\r\n",
       "<!-- 21&#45;&gt;22 -->\r\n",
       "<g id=\"edge22\" class=\"edge\"><title>21&#45;&gt;22</title>\r\n",
       "<path fill=\"none\" stroke=\"black\" d=\"M556.851,-504.884C556.692,-496.778 556.519,-487.982 556.352,-479.472\"/>\r\n",
       "<polygon fill=\"black\" stroke=\"black\" points=\"559.848,-479.229 556.153,-469.299 552.85,-479.366 559.848,-479.229\"/>\r\n",
       "</g>\r\n",
       "<!-- 31 -->\r\n",
       "<g id=\"node32\" class=\"node\"><title>31</title>\r\n",
       "<path fill=\"#399de5\" stroke=\"black\" d=\"M719.5,-461.5C719.5,-461.5 643.5,-461.5 643.5,-461.5 637.5,-461.5 631.5,-455.5 631.5,-449.5 631.5,-449.5 631.5,-420.5 631.5,-420.5 631.5,-414.5 637.5,-408.5 643.5,-408.5 643.5,-408.5 719.5,-408.5 719.5,-408.5 725.5,-408.5 731.5,-414.5 731.5,-420.5 731.5,-420.5 731.5,-449.5 731.5,-449.5 731.5,-455.5 725.5,-461.5 719.5,-461.5\"/>\r\n",
       "<text text-anchor=\"middle\" x=\"681.5\" y=\"-446.3\" font-family=\"Helvetica,sans-Serif\" font-size=\"14.00\">entropy = 0.0</text>\r\n",
       "<text text-anchor=\"middle\" x=\"681.5\" y=\"-431.3\" font-family=\"Helvetica,sans-Serif\" font-size=\"14.00\">samples = 3</text>\r\n",
       "<text text-anchor=\"middle\" x=\"681.5\" y=\"-416.3\" font-family=\"Helvetica,sans-Serif\" font-size=\"14.00\">value = [0, 3]</text>\r\n",
       "</g>\r\n",
       "<!-- 21&#45;&gt;31 -->\r\n",
       "<g id=\"edge31\" class=\"edge\"><title>21&#45;&gt;31</title>\r\n",
       "<path fill=\"none\" stroke=\"black\" d=\"M597.759,-504.884C612.199,-493.006 628.44,-479.646 642.749,-467.876\"/>\r\n",
       "<polygon fill=\"black\" stroke=\"black\" points=\"644.976,-470.576 650.476,-461.52 640.529,-465.17 644.976,-470.576\"/>\r\n",
       "</g>\r\n",
       "<!-- 23 -->\r\n",
       "<g id=\"node24\" class=\"node\"><title>23</title>\r\n",
       "<path fill=\"#e58139\" stroke=\"black\" d=\"M574.5,-357.5C574.5,-357.5 498.5,-357.5 498.5,-357.5 492.5,-357.5 486.5,-351.5 486.5,-345.5 486.5,-345.5 486.5,-316.5 486.5,-316.5 486.5,-310.5 492.5,-304.5 498.5,-304.5 498.5,-304.5 574.5,-304.5 574.5,-304.5 580.5,-304.5 586.5,-310.5 586.5,-316.5 586.5,-316.5 586.5,-345.5 586.5,-345.5 586.5,-351.5 580.5,-357.5 574.5,-357.5\"/>\r\n",
       "<text text-anchor=\"middle\" x=\"536.5\" y=\"-342.3\" font-family=\"Helvetica,sans-Serif\" font-size=\"14.00\">entropy = 0.0</text>\r\n",
       "<text text-anchor=\"middle\" x=\"536.5\" y=\"-327.3\" font-family=\"Helvetica,sans-Serif\" font-size=\"14.00\">samples = 1</text>\r\n",
       "<text text-anchor=\"middle\" x=\"536.5\" y=\"-312.3\" font-family=\"Helvetica,sans-Serif\" font-size=\"14.00\">value = [1, 0]</text>\r\n",
       "</g>\r\n",
       "<!-- 22&#45;&gt;23 -->\r\n",
       "<g id=\"edge23\" class=\"edge\"><title>22&#45;&gt;23</title>\r\n",
       "<path fill=\"none\" stroke=\"black\" d=\"M549.331,-400.884C547.344,-390.216 545.134,-378.352 543.116,-367.519\"/>\r\n",
       "<polygon fill=\"black\" stroke=\"black\" points=\"546.526,-366.71 541.254,-357.52 539.644,-367.992 546.526,-366.71\"/>\r\n",
       "</g>\r\n",
       "<!-- 24 -->\r\n",
       "<g id=\"node25\" class=\"node\"><title>24</title>\r\n",
       "<path fill=\"#8ec7f0\" stroke=\"black\" d=\"M708.5,-365C708.5,-365 616.5,-365 616.5,-365 610.5,-365 604.5,-359 604.5,-353 604.5,-353 604.5,-309 604.5,-309 604.5,-303 610.5,-297 616.5,-297 616.5,-297 708.5,-297 708.5,-297 714.5,-297 720.5,-303 720.5,-309 720.5,-309 720.5,-353 720.5,-353 720.5,-359 714.5,-365 708.5,-365\"/>\r\n",
       "<text text-anchor=\"middle\" x=\"662.5\" y=\"-349.8\" font-family=\"Helvetica,sans-Serif\" font-size=\"14.00\">X[7] &lt;= 0.186</text>\r\n",
       "<text text-anchor=\"middle\" x=\"662.5\" y=\"-334.8\" font-family=\"Helvetica,sans-Serif\" font-size=\"14.00\">entropy = 0.881</text>\r\n",
       "<text text-anchor=\"middle\" x=\"662.5\" y=\"-319.8\" font-family=\"Helvetica,sans-Serif\" font-size=\"14.00\">samples = 10</text>\r\n",
       "<text text-anchor=\"middle\" x=\"662.5\" y=\"-304.8\" font-family=\"Helvetica,sans-Serif\" font-size=\"14.00\">value = [3, 7]</text>\r\n",
       "</g>\r\n",
       "<!-- 22&#45;&gt;24 -->\r\n",
       "<g id=\"edge24\" class=\"edge\"><title>22&#45;&gt;24</title>\r\n",
       "<path fill=\"none\" stroke=\"black\" d=\"M590.24,-400.884C599.771,-391.798 610.211,-381.845 620.119,-372.4\"/>\r\n",
       "<polygon fill=\"black\" stroke=\"black\" points=\"622.745,-374.733 627.568,-365.299 617.915,-369.666 622.745,-374.733\"/>\r\n",
       "</g>\r\n",
       "<!-- 25 -->\r\n",
       "<g id=\"node26\" class=\"node\"><title>25</title>\r\n",
       "<path fill=\"#ffffff\" stroke=\"black\" d=\"M641.5,-261C641.5,-261 565.5,-261 565.5,-261 559.5,-261 553.5,-255 553.5,-249 553.5,-249 553.5,-205 553.5,-205 553.5,-199 559.5,-193 565.5,-193 565.5,-193 641.5,-193 641.5,-193 647.5,-193 653.5,-199 653.5,-205 653.5,-205 653.5,-249 653.5,-249 653.5,-255 647.5,-261 641.5,-261\"/>\r\n",
       "<text text-anchor=\"middle\" x=\"603.5\" y=\"-245.8\" font-family=\"Helvetica,sans-Serif\" font-size=\"14.00\">X[5] &lt;= &#45;0.09</text>\r\n",
       "<text text-anchor=\"middle\" x=\"603.5\" y=\"-230.8\" font-family=\"Helvetica,sans-Serif\" font-size=\"14.00\">entropy = 1.0</text>\r\n",
       "<text text-anchor=\"middle\" x=\"603.5\" y=\"-215.8\" font-family=\"Helvetica,sans-Serif\" font-size=\"14.00\">samples = 6</text>\r\n",
       "<text text-anchor=\"middle\" x=\"603.5\" y=\"-200.8\" font-family=\"Helvetica,sans-Serif\" font-size=\"14.00\">value = [3, 3]</text>\r\n",
       "</g>\r\n",
       "<!-- 24&#45;&gt;25 -->\r\n",
       "<g id=\"edge25\" class=\"edge\"><title>24&#45;&gt;25</title>\r\n",
       "<path fill=\"none\" stroke=\"black\" d=\"M643.344,-296.884C638.398,-288.332 633.008,-279.013 627.836,-270.072\"/>\r\n",
       "<polygon fill=\"black\" stroke=\"black\" points=\"630.798,-268.203 622.761,-261.299 624.739,-271.708 630.798,-268.203\"/>\r\n",
       "</g>\r\n",
       "<!-- 30 -->\r\n",
       "<g id=\"node31\" class=\"node\"><title>30</title>\r\n",
       "<path fill=\"#399de5\" stroke=\"black\" d=\"M759.5,-253.5C759.5,-253.5 683.5,-253.5 683.5,-253.5 677.5,-253.5 671.5,-247.5 671.5,-241.5 671.5,-241.5 671.5,-212.5 671.5,-212.5 671.5,-206.5 677.5,-200.5 683.5,-200.5 683.5,-200.5 759.5,-200.5 759.5,-200.5 765.5,-200.5 771.5,-206.5 771.5,-212.5 771.5,-212.5 771.5,-241.5 771.5,-241.5 771.5,-247.5 765.5,-253.5 759.5,-253.5\"/>\r\n",
       "<text text-anchor=\"middle\" x=\"721.5\" y=\"-238.3\" font-family=\"Helvetica,sans-Serif\" font-size=\"14.00\">entropy = 0.0</text>\r\n",
       "<text text-anchor=\"middle\" x=\"721.5\" y=\"-223.3\" font-family=\"Helvetica,sans-Serif\" font-size=\"14.00\">samples = 4</text>\r\n",
       "<text text-anchor=\"middle\" x=\"721.5\" y=\"-208.3\" font-family=\"Helvetica,sans-Serif\" font-size=\"14.00\">value = [0, 4]</text>\r\n",
       "</g>\r\n",
       "<!-- 24&#45;&gt;30 -->\r\n",
       "<g id=\"edge30\" class=\"edge\"><title>24&#45;&gt;30</title>\r\n",
       "<path fill=\"none\" stroke=\"black\" d=\"M681.656,-296.884C688.081,-285.776 695.255,-273.372 701.727,-262.184\"/>\r\n",
       "<polygon fill=\"black\" stroke=\"black\" points=\"704.761,-263.929 706.738,-253.52 698.702,-260.424 704.761,-263.929\"/>\r\n",
       "</g>\r\n",
       "<!-- 26 -->\r\n",
       "<g id=\"node27\" class=\"node\"><title>26</title>\r\n",
       "<path fill=\"#7bbeee\" stroke=\"black\" d=\"M586.5,-157C586.5,-157 494.5,-157 494.5,-157 488.5,-157 482.5,-151 482.5,-145 482.5,-145 482.5,-101 482.5,-101 482.5,-95 488.5,-89 494.5,-89 494.5,-89 586.5,-89 586.5,-89 592.5,-89 598.5,-95 598.5,-101 598.5,-101 598.5,-145 598.5,-145 598.5,-151 592.5,-157 586.5,-157\"/>\r\n",
       "<text text-anchor=\"middle\" x=\"540.5\" y=\"-141.8\" font-family=\"Helvetica,sans-Serif\" font-size=\"14.00\">X[0] &lt;= 1.075</text>\r\n",
       "<text text-anchor=\"middle\" x=\"540.5\" y=\"-126.8\" font-family=\"Helvetica,sans-Serif\" font-size=\"14.00\">entropy = 0.811</text>\r\n",
       "<text text-anchor=\"middle\" x=\"540.5\" y=\"-111.8\" font-family=\"Helvetica,sans-Serif\" font-size=\"14.00\">samples = 4</text>\r\n",
       "<text text-anchor=\"middle\" x=\"540.5\" y=\"-96.8\" font-family=\"Helvetica,sans-Serif\" font-size=\"14.00\">value = [1, 3]</text>\r\n",
       "</g>\r\n",
       "<!-- 25&#45;&gt;26 -->\r\n",
       "<g id=\"edge26\" class=\"edge\"><title>25&#45;&gt;26</title>\r\n",
       "<path fill=\"none\" stroke=\"black\" d=\"M583.046,-192.884C577.764,-184.332 572.008,-175.013 566.486,-166.072\"/>\r\n",
       "<polygon fill=\"black\" stroke=\"black\" points=\"569.3,-163.968 561.067,-157.299 563.344,-167.647 569.3,-163.968\"/>\r\n",
       "</g>\r\n",
       "<!-- 29 -->\r\n",
       "<g id=\"node30\" class=\"node\"><title>29</title>\r\n",
       "<path fill=\"#e58139\" stroke=\"black\" d=\"M704.5,-149.5C704.5,-149.5 628.5,-149.5 628.5,-149.5 622.5,-149.5 616.5,-143.5 616.5,-137.5 616.5,-137.5 616.5,-108.5 616.5,-108.5 616.5,-102.5 622.5,-96.5 628.5,-96.5 628.5,-96.5 704.5,-96.5 704.5,-96.5 710.5,-96.5 716.5,-102.5 716.5,-108.5 716.5,-108.5 716.5,-137.5 716.5,-137.5 716.5,-143.5 710.5,-149.5 704.5,-149.5\"/>\r\n",
       "<text text-anchor=\"middle\" x=\"666.5\" y=\"-134.3\" font-family=\"Helvetica,sans-Serif\" font-size=\"14.00\">entropy = 0.0</text>\r\n",
       "<text text-anchor=\"middle\" x=\"666.5\" y=\"-119.3\" font-family=\"Helvetica,sans-Serif\" font-size=\"14.00\">samples = 2</text>\r\n",
       "<text text-anchor=\"middle\" x=\"666.5\" y=\"-104.3\" font-family=\"Helvetica,sans-Serif\" font-size=\"14.00\">value = [2, 0]</text>\r\n",
       "</g>\r\n",
       "<!-- 25&#45;&gt;29 -->\r\n",
       "<g id=\"edge29\" class=\"edge\"><title>25&#45;&gt;29</title>\r\n",
       "<path fill=\"none\" stroke=\"black\" d=\"M623.954,-192.884C630.815,-181.776 638.476,-169.372 645.386,-158.184\"/>\r\n",
       "<polygon fill=\"black\" stroke=\"black\" points=\"648.461,-159.867 650.738,-149.52 642.505,-156.189 648.461,-159.867\"/>\r\n",
       "</g>\r\n",
       "<!-- 27 -->\r\n",
       "<g id=\"node28\" class=\"node\"><title>27</title>\r\n",
       "<path fill=\"#399de5\" stroke=\"black\" d=\"M519.5,-53C519.5,-53 443.5,-53 443.5,-53 437.5,-53 431.5,-47 431.5,-41 431.5,-41 431.5,-12 431.5,-12 431.5,-6 437.5,-0 443.5,-0 443.5,-0 519.5,-0 519.5,-0 525.5,-0 531.5,-6 531.5,-12 531.5,-12 531.5,-41 531.5,-41 531.5,-47 525.5,-53 519.5,-53\"/>\r\n",
       "<text text-anchor=\"middle\" x=\"481.5\" y=\"-37.8\" font-family=\"Helvetica,sans-Serif\" font-size=\"14.00\">entropy = 0.0</text>\r\n",
       "<text text-anchor=\"middle\" x=\"481.5\" y=\"-22.8\" font-family=\"Helvetica,sans-Serif\" font-size=\"14.00\">samples = 3</text>\r\n",
       "<text text-anchor=\"middle\" x=\"481.5\" y=\"-7.8\" font-family=\"Helvetica,sans-Serif\" font-size=\"14.00\">value = [0, 3]</text>\r\n",
       "</g>\r\n",
       "<!-- 26&#45;&gt;27 -->\r\n",
       "<g id=\"edge27\" class=\"edge\"><title>26&#45;&gt;27</title>\r\n",
       "<path fill=\"none\" stroke=\"black\" d=\"M519.865,-88.9485C514.382,-80.1664 508.448,-70.6629 502.924,-61.815\"/>\r\n",
       "<polygon fill=\"black\" stroke=\"black\" points=\"505.833,-59.8656 497.568,-53.2367 499.896,-63.5728 505.833,-59.8656\"/>\r\n",
       "</g>\r\n",
       "<!-- 28 -->\r\n",
       "<g id=\"node29\" class=\"node\"><title>28</title>\r\n",
       "<path fill=\"#e58139\" stroke=\"black\" d=\"M637.5,-53C637.5,-53 561.5,-53 561.5,-53 555.5,-53 549.5,-47 549.5,-41 549.5,-41 549.5,-12 549.5,-12 549.5,-6 555.5,-0 561.5,-0 561.5,-0 637.5,-0 637.5,-0 643.5,-0 649.5,-6 649.5,-12 649.5,-12 649.5,-41 649.5,-41 649.5,-47 643.5,-53 637.5,-53\"/>\r\n",
       "<text text-anchor=\"middle\" x=\"599.5\" y=\"-37.8\" font-family=\"Helvetica,sans-Serif\" font-size=\"14.00\">entropy = 0.0</text>\r\n",
       "<text text-anchor=\"middle\" x=\"599.5\" y=\"-22.8\" font-family=\"Helvetica,sans-Serif\" font-size=\"14.00\">samples = 1</text>\r\n",
       "<text text-anchor=\"middle\" x=\"599.5\" y=\"-7.8\" font-family=\"Helvetica,sans-Serif\" font-size=\"14.00\">value = [1, 0]</text>\r\n",
       "</g>\r\n",
       "<!-- 26&#45;&gt;28 -->\r\n",
       "<g id=\"edge28\" class=\"edge\"><title>26&#45;&gt;28</title>\r\n",
       "<path fill=\"none\" stroke=\"black\" d=\"M561.135,-88.9485C566.618,-80.1664 572.552,-70.6629 578.076,-61.815\"/>\r\n",
       "<polygon fill=\"black\" stroke=\"black\" points=\"581.104,-63.5728 583.432,-53.2367 575.167,-59.8656 581.104,-63.5728\"/>\r\n",
       "</g>\r\n",
       "<!-- 36 -->\r\n",
       "<g id=\"node37\" class=\"node\"><title>36</title>\r\n",
       "<path fill=\"#399de5\" stroke=\"black\" d=\"M857,-877.5C857,-877.5 776,-877.5 776,-877.5 770,-877.5 764,-871.5 764,-865.5 764,-865.5 764,-836.5 764,-836.5 764,-830.5 770,-824.5 776,-824.5 776,-824.5 857,-824.5 857,-824.5 863,-824.5 869,-830.5 869,-836.5 869,-836.5 869,-865.5 869,-865.5 869,-871.5 863,-877.5 857,-877.5\"/>\r\n",
       "<text text-anchor=\"middle\" x=\"816.5\" y=\"-862.3\" font-family=\"Helvetica,sans-Serif\" font-size=\"14.00\">entropy = 0.0</text>\r\n",
       "<text text-anchor=\"middle\" x=\"816.5\" y=\"-847.3\" font-family=\"Helvetica,sans-Serif\" font-size=\"14.00\">samples = 27</text>\r\n",
       "<text text-anchor=\"middle\" x=\"816.5\" y=\"-832.3\" font-family=\"Helvetica,sans-Serif\" font-size=\"14.00\">value = [0, 27]</text>\r\n",
       "</g>\r\n",
       "<!-- 35&#45;&gt;36 -->\r\n",
       "<g id=\"edge36\" class=\"edge\"><title>35&#45;&gt;36</title>\r\n",
       "<path fill=\"none\" stroke=\"black\" d=\"M817.851,-920.884C817.641,-910.216 817.409,-898.352 817.196,-887.519\"/>\r\n",
       "<polygon fill=\"black\" stroke=\"black\" points=\"820.696,-887.449 817,-877.52 813.697,-887.587 820.696,-887.449\"/>\r\n",
       "</g>\r\n",
       "<!-- 37 -->\r\n",
       "<g id=\"node38\" class=\"node\"><title>37</title>\r\n",
       "<path fill=\"#7bbeee\" stroke=\"black\" d=\"M991.5,-885C991.5,-885 899.5,-885 899.5,-885 893.5,-885 887.5,-879 887.5,-873 887.5,-873 887.5,-829 887.5,-829 887.5,-823 893.5,-817 899.5,-817 899.5,-817 991.5,-817 991.5,-817 997.5,-817 1003.5,-823 1003.5,-829 1003.5,-829 1003.5,-873 1003.5,-873 1003.5,-879 997.5,-885 991.5,-885\"/>\r\n",
       "<text text-anchor=\"middle\" x=\"945.5\" y=\"-869.8\" font-family=\"Helvetica,sans-Serif\" font-size=\"14.00\">X[0] &lt;= 0.717</text>\r\n",
       "<text text-anchor=\"middle\" x=\"945.5\" y=\"-854.8\" font-family=\"Helvetica,sans-Serif\" font-size=\"14.00\">entropy = 0.811</text>\r\n",
       "<text text-anchor=\"middle\" x=\"945.5\" y=\"-839.8\" font-family=\"Helvetica,sans-Serif\" font-size=\"14.00\">samples = 4</text>\r\n",
       "<text text-anchor=\"middle\" x=\"945.5\" y=\"-824.8\" font-family=\"Helvetica,sans-Serif\" font-size=\"14.00\">value = [1, 3]</text>\r\n",
       "</g>\r\n",
       "<!-- 35&#45;&gt;37 -->\r\n",
       "<g id=\"edge37\" class=\"edge\"><title>35&#45;&gt;37</title>\r\n",
       "<path fill=\"none\" stroke=\"black\" d=\"M859.733,-920.884C871.378,-911.531 884.167,-901.259 896.234,-891.568\"/>\r\n",
       "<polygon fill=\"black\" stroke=\"black\" points=\"898.434,-894.29 904.039,-885.299 894.051,-888.832 898.434,-894.29\"/>\r\n",
       "</g>\r\n",
       "<!-- 38 -->\r\n",
       "<g id=\"node39\" class=\"node\"><title>38</title>\r\n",
       "<path fill=\"#e58139\" stroke=\"black\" d=\"M959.5,-773.5C959.5,-773.5 883.5,-773.5 883.5,-773.5 877.5,-773.5 871.5,-767.5 871.5,-761.5 871.5,-761.5 871.5,-732.5 871.5,-732.5 871.5,-726.5 877.5,-720.5 883.5,-720.5 883.5,-720.5 959.5,-720.5 959.5,-720.5 965.5,-720.5 971.5,-726.5 971.5,-732.5 971.5,-732.5 971.5,-761.5 971.5,-761.5 971.5,-767.5 965.5,-773.5 959.5,-773.5\"/>\r\n",
       "<text text-anchor=\"middle\" x=\"921.5\" y=\"-758.3\" font-family=\"Helvetica,sans-Serif\" font-size=\"14.00\">entropy = 0.0</text>\r\n",
       "<text text-anchor=\"middle\" x=\"921.5\" y=\"-743.3\" font-family=\"Helvetica,sans-Serif\" font-size=\"14.00\">samples = 1</text>\r\n",
       "<text text-anchor=\"middle\" x=\"921.5\" y=\"-728.3\" font-family=\"Helvetica,sans-Serif\" font-size=\"14.00\">value = [1, 0]</text>\r\n",
       "</g>\r\n",
       "<!-- 37&#45;&gt;38 -->\r\n",
       "<g id=\"edge38\" class=\"edge\"><title>37&#45;&gt;38</title>\r\n",
       "<path fill=\"none\" stroke=\"black\" d=\"M937.708,-816.884C935.198,-806.216 932.406,-794.352 929.857,-783.519\"/>\r\n",
       "<polygon fill=\"black\" stroke=\"black\" points=\"933.202,-782.452 927.505,-773.52 926.388,-784.056 933.202,-782.452\"/>\r\n",
       "</g>\r\n",
       "<!-- 39 -->\r\n",
       "<g id=\"node40\" class=\"node\"><title>39</title>\r\n",
       "<path fill=\"#399de5\" stroke=\"black\" d=\"M1077.5,-773.5C1077.5,-773.5 1001.5,-773.5 1001.5,-773.5 995.5,-773.5 989.5,-767.5 989.5,-761.5 989.5,-761.5 989.5,-732.5 989.5,-732.5 989.5,-726.5 995.5,-720.5 1001.5,-720.5 1001.5,-720.5 1077.5,-720.5 1077.5,-720.5 1083.5,-720.5 1089.5,-726.5 1089.5,-732.5 1089.5,-732.5 1089.5,-761.5 1089.5,-761.5 1089.5,-767.5 1083.5,-773.5 1077.5,-773.5\"/>\r\n",
       "<text text-anchor=\"middle\" x=\"1039.5\" y=\"-758.3\" font-family=\"Helvetica,sans-Serif\" font-size=\"14.00\">entropy = 0.0</text>\r\n",
       "<text text-anchor=\"middle\" x=\"1039.5\" y=\"-743.3\" font-family=\"Helvetica,sans-Serif\" font-size=\"14.00\">samples = 3</text>\r\n",
       "<text text-anchor=\"middle\" x=\"1039.5\" y=\"-728.3\" font-family=\"Helvetica,sans-Serif\" font-size=\"14.00\">value = [0, 3]</text>\r\n",
       "</g>\r\n",
       "<!-- 37&#45;&gt;39 -->\r\n",
       "<g id=\"edge39\" class=\"edge\"><title>37&#45;&gt;39</title>\r\n",
       "<path fill=\"none\" stroke=\"black\" d=\"M976.019,-816.884C986.56,-805.446 998.367,-792.634 1008.91,-781.19\"/>\r\n",
       "<polygon fill=\"black\" stroke=\"black\" points=\"1011.78,-783.245 1015.98,-773.52 1006.63,-778.502 1011.78,-783.245\"/>\r\n",
       "</g>\r\n",
       "<!-- 41 -->\r\n",
       "<g id=\"node42\" class=\"node\"><title>41</title>\r\n",
       "<path fill=\"#49a5e7\" stroke=\"black\" d=\"M1205.5,-989C1205.5,-989 1113.5,-989 1113.5,-989 1107.5,-989 1101.5,-983 1101.5,-977 1101.5,-977 1101.5,-933 1101.5,-933 1101.5,-927 1107.5,-921 1113.5,-921 1113.5,-921 1205.5,-921 1205.5,-921 1211.5,-921 1217.5,-927 1217.5,-933 1217.5,-933 1217.5,-977 1217.5,-977 1217.5,-983 1211.5,-989 1205.5,-989\"/>\r\n",
       "<text text-anchor=\"middle\" x=\"1159.5\" y=\"-973.8\" font-family=\"Helvetica,sans-Serif\" font-size=\"14.00\">X[0] &lt;= 0.717</text>\r\n",
       "<text text-anchor=\"middle\" x=\"1159.5\" y=\"-958.8\" font-family=\"Helvetica,sans-Serif\" font-size=\"14.00\">entropy = 0.387</text>\r\n",
       "<text text-anchor=\"middle\" x=\"1159.5\" y=\"-943.8\" font-family=\"Helvetica,sans-Serif\" font-size=\"14.00\">samples = 66</text>\r\n",
       "<text text-anchor=\"middle\" x=\"1159.5\" y=\"-928.8\" font-family=\"Helvetica,sans-Serif\" font-size=\"14.00\">value = [5, 61]</text>\r\n",
       "</g>\r\n",
       "<!-- 40&#45;&gt;41 -->\r\n",
       "<g id=\"edge41\" class=\"edge\"><title>40&#45;&gt;41</title>\r\n",
       "<path fill=\"none\" stroke=\"black\" d=\"M1159.5,-1024.88C1159.5,-1016.78 1159.5,-1007.98 1159.5,-999.472\"/>\r\n",
       "<polygon fill=\"black\" stroke=\"black\" points=\"1163,-999.299 1159.5,-989.299 1156,-999.299 1163,-999.299\"/>\r\n",
       "</g>\r\n",
       "<!-- 58 -->\r\n",
       "<g id=\"node59\" class=\"node\"><title>58</title>\r\n",
       "<path fill=\"#399de5\" stroke=\"black\" d=\"M1329,-981.5C1329,-981.5 1248,-981.5 1248,-981.5 1242,-981.5 1236,-975.5 1236,-969.5 1236,-969.5 1236,-940.5 1236,-940.5 1236,-934.5 1242,-928.5 1248,-928.5 1248,-928.5 1329,-928.5 1329,-928.5 1335,-928.5 1341,-934.5 1341,-940.5 1341,-940.5 1341,-969.5 1341,-969.5 1341,-975.5 1335,-981.5 1329,-981.5\"/>\r\n",
       "<text text-anchor=\"middle\" x=\"1288.5\" y=\"-966.3\" font-family=\"Helvetica,sans-Serif\" font-size=\"14.00\">entropy = 0.0</text>\r\n",
       "<text text-anchor=\"middle\" x=\"1288.5\" y=\"-951.3\" font-family=\"Helvetica,sans-Serif\" font-size=\"14.00\">samples = 87</text>\r\n",
       "<text text-anchor=\"middle\" x=\"1288.5\" y=\"-936.3\" font-family=\"Helvetica,sans-Serif\" font-size=\"14.00\">value = [0, 87]</text>\r\n",
       "</g>\r\n",
       "<!-- 40&#45;&gt;58 -->\r\n",
       "<g id=\"edge58\" class=\"edge\"><title>40&#45;&gt;58</title>\r\n",
       "<path fill=\"none\" stroke=\"black\" d=\"M1201.38,-1024.88C1216.4,-1013.01 1233.3,-999.646 1248.19,-987.876\"/>\r\n",
       "<polygon fill=\"black\" stroke=\"black\" points=\"1250.55,-990.468 1256.22,-981.52 1246.21,-984.977 1250.55,-990.468\"/>\r\n",
       "</g>\r\n",
       "<!-- 42 -->\r\n",
       "<g id=\"node43\" class=\"node\"><title>42</title>\r\n",
       "<path fill=\"#68b4eb\" stroke=\"black\" d=\"M1205.5,-885C1205.5,-885 1113.5,-885 1113.5,-885 1107.5,-885 1101.5,-879 1101.5,-873 1101.5,-873 1101.5,-829 1101.5,-829 1101.5,-823 1107.5,-817 1113.5,-817 1113.5,-817 1205.5,-817 1205.5,-817 1211.5,-817 1217.5,-823 1217.5,-829 1217.5,-829 1217.5,-873 1217.5,-873 1217.5,-879 1211.5,-885 1205.5,-885\"/>\r\n",
       "<text text-anchor=\"middle\" x=\"1159.5\" y=\"-869.8\" font-family=\"Helvetica,sans-Serif\" font-size=\"14.00\">X[6] &lt;= 0.397</text>\r\n",
       "<text text-anchor=\"middle\" x=\"1159.5\" y=\"-854.8\" font-family=\"Helvetica,sans-Serif\" font-size=\"14.00\">entropy = 0.706</text>\r\n",
       "<text text-anchor=\"middle\" x=\"1159.5\" y=\"-839.8\" font-family=\"Helvetica,sans-Serif\" font-size=\"14.00\">samples = 26</text>\r\n",
       "<text text-anchor=\"middle\" x=\"1159.5\" y=\"-824.8\" font-family=\"Helvetica,sans-Serif\" font-size=\"14.00\">value = [5, 21]</text>\r\n",
       "</g>\r\n",
       "<!-- 41&#45;&gt;42 -->\r\n",
       "<g id=\"edge42\" class=\"edge\"><title>41&#45;&gt;42</title>\r\n",
       "<path fill=\"none\" stroke=\"black\" d=\"M1159.5,-920.884C1159.5,-912.778 1159.5,-903.982 1159.5,-895.472\"/>\r\n",
       "<polygon fill=\"black\" stroke=\"black\" points=\"1163,-895.299 1159.5,-885.299 1156,-895.299 1163,-895.299\"/>\r\n",
       "</g>\r\n",
       "<!-- 57 -->\r\n",
       "<g id=\"node58\" class=\"node\"><title>57</title>\r\n",
       "<path fill=\"#399de5\" stroke=\"black\" d=\"M1329,-877.5C1329,-877.5 1248,-877.5 1248,-877.5 1242,-877.5 1236,-871.5 1236,-865.5 1236,-865.5 1236,-836.5 1236,-836.5 1236,-830.5 1242,-824.5 1248,-824.5 1248,-824.5 1329,-824.5 1329,-824.5 1335,-824.5 1341,-830.5 1341,-836.5 1341,-836.5 1341,-865.5 1341,-865.5 1341,-871.5 1335,-877.5 1329,-877.5\"/>\r\n",
       "<text text-anchor=\"middle\" x=\"1288.5\" y=\"-862.3\" font-family=\"Helvetica,sans-Serif\" font-size=\"14.00\">entropy = 0.0</text>\r\n",
       "<text text-anchor=\"middle\" x=\"1288.5\" y=\"-847.3\" font-family=\"Helvetica,sans-Serif\" font-size=\"14.00\">samples = 40</text>\r\n",
       "<text text-anchor=\"middle\" x=\"1288.5\" y=\"-832.3\" font-family=\"Helvetica,sans-Serif\" font-size=\"14.00\">value = [0, 40]</text>\r\n",
       "</g>\r\n",
       "<!-- 41&#45;&gt;57 -->\r\n",
       "<g id=\"edge57\" class=\"edge\"><title>41&#45;&gt;57</title>\r\n",
       "<path fill=\"none\" stroke=\"black\" d=\"M1201.38,-920.884C1216.4,-909.006 1233.3,-895.646 1248.19,-883.876\"/>\r\n",
       "<polygon fill=\"black\" stroke=\"black\" points=\"1250.55,-886.468 1256.22,-877.52 1246.21,-880.977 1250.55,-886.468\"/>\r\n",
       "</g>\r\n",
       "<!-- 43 -->\r\n",
       "<g id=\"node44\" class=\"node\"><title>43</title>\r\n",
       "<path fill=\"#ffffff\" stroke=\"black\" d=\"M1199,-781C1199,-781 1120,-781 1120,-781 1114,-781 1108,-775 1108,-769 1108,-769 1108,-725 1108,-725 1108,-719 1114,-713 1120,-713 1120,-713 1199,-713 1199,-713 1205,-713 1211,-719 1211,-725 1211,-725 1211,-769 1211,-769 1211,-775 1205,-781 1199,-781\"/>\r\n",
       "<text text-anchor=\"middle\" x=\"1159.5\" y=\"-765.8\" font-family=\"Helvetica,sans-Serif\" font-size=\"14.00\">X[0] &lt;= 0.358</text>\r\n",
       "<text text-anchor=\"middle\" x=\"1159.5\" y=\"-750.8\" font-family=\"Helvetica,sans-Serif\" font-size=\"14.00\">entropy = 1.0</text>\r\n",
       "<text text-anchor=\"middle\" x=\"1159.5\" y=\"-735.8\" font-family=\"Helvetica,sans-Serif\" font-size=\"14.00\">samples = 8</text>\r\n",
       "<text text-anchor=\"middle\" x=\"1159.5\" y=\"-720.8\" font-family=\"Helvetica,sans-Serif\" font-size=\"14.00\">value = [4, 4]</text>\r\n",
       "</g>\r\n",
       "<!-- 42&#45;&gt;43 -->\r\n",
       "<g id=\"edge43\" class=\"edge\"><title>42&#45;&gt;43</title>\r\n",
       "<path fill=\"none\" stroke=\"black\" d=\"M1159.5,-816.884C1159.5,-808.778 1159.5,-799.982 1159.5,-791.472\"/>\r\n",
       "<polygon fill=\"black\" stroke=\"black\" points=\"1163,-791.299 1159.5,-781.299 1156,-791.299 1163,-791.299\"/>\r\n",
       "</g>\r\n",
       "<!-- 52 -->\r\n",
       "<g id=\"node53\" class=\"node\"><title>52</title>\r\n",
       "<path fill=\"#45a3e7\" stroke=\"black\" d=\"M1327.5,-781C1327.5,-781 1243.5,-781 1243.5,-781 1237.5,-781 1231.5,-775 1231.5,-769 1231.5,-769 1231.5,-725 1231.5,-725 1231.5,-719 1237.5,-713 1243.5,-713 1243.5,-713 1327.5,-713 1327.5,-713 1333.5,-713 1339.5,-719 1339.5,-725 1339.5,-725 1339.5,-769 1339.5,-769 1339.5,-775 1333.5,-781 1327.5,-781\"/>\r\n",
       "<text text-anchor=\"middle\" x=\"1285.5\" y=\"-765.8\" font-family=\"Helvetica,sans-Serif\" font-size=\"14.00\">X[1] &lt;= 1.051</text>\r\n",
       "<text text-anchor=\"middle\" x=\"1285.5\" y=\"-750.8\" font-family=\"Helvetica,sans-Serif\" font-size=\"14.00\">entropy = 0.31</text>\r\n",
       "<text text-anchor=\"middle\" x=\"1285.5\" y=\"-735.8\" font-family=\"Helvetica,sans-Serif\" font-size=\"14.00\">samples = 18</text>\r\n",
       "<text text-anchor=\"middle\" x=\"1285.5\" y=\"-720.8\" font-family=\"Helvetica,sans-Serif\" font-size=\"14.00\">value = [1, 17]</text>\r\n",
       "</g>\r\n",
       "<!-- 42&#45;&gt;52 -->\r\n",
       "<g id=\"edge52\" class=\"edge\"><title>42&#45;&gt;52</title>\r\n",
       "<path fill=\"none\" stroke=\"black\" d=\"M1200.41,-816.884C1211.85,-807.62 1224.41,-797.455 1236.28,-787.845\"/>\r\n",
       "<polygon fill=\"black\" stroke=\"black\" points=\"1238.8,-790.312 1244.37,-781.299 1234.39,-784.871 1238.8,-790.312\"/>\r\n",
       "</g>\r\n",
       "<!-- 44 -->\r\n",
       "<g id=\"node45\" class=\"node\"><title>44</title>\r\n",
       "<path fill=\"#9ccef2\" stroke=\"black\" d=\"M1079.5,-677C1079.5,-677 987.5,-677 987.5,-677 981.5,-677 975.5,-671 975.5,-665 975.5,-665 975.5,-621 975.5,-621 975.5,-615 981.5,-609 987.5,-609 987.5,-609 1079.5,-609 1079.5,-609 1085.5,-609 1091.5,-615 1091.5,-621 1091.5,-621 1091.5,-665 1091.5,-665 1091.5,-671 1085.5,-677 1079.5,-677\"/>\r\n",
       "<text text-anchor=\"middle\" x=\"1033.5\" y=\"-661.8\" font-family=\"Helvetica,sans-Serif\" font-size=\"14.00\">X[5] &lt;= 0.788</text>\r\n",
       "<text text-anchor=\"middle\" x=\"1033.5\" y=\"-646.8\" font-family=\"Helvetica,sans-Serif\" font-size=\"14.00\">entropy = 0.918</text>\r\n",
       "<text text-anchor=\"middle\" x=\"1033.5\" y=\"-631.8\" font-family=\"Helvetica,sans-Serif\" font-size=\"14.00\">samples = 6</text>\r\n",
       "<text text-anchor=\"middle\" x=\"1033.5\" y=\"-616.8\" font-family=\"Helvetica,sans-Serif\" font-size=\"14.00\">value = [2, 4]</text>\r\n",
       "</g>\r\n",
       "<!-- 43&#45;&gt;44 -->\r\n",
       "<g id=\"edge44\" class=\"edge\"><title>43&#45;&gt;44</title>\r\n",
       "<path fill=\"none\" stroke=\"black\" d=\"M1118.59,-712.884C1107.15,-703.62 1094.59,-693.455 1082.72,-683.845\"/>\r\n",
       "<polygon fill=\"black\" stroke=\"black\" points=\"1084.61,-680.871 1074.63,-677.299 1080.2,-686.312 1084.61,-680.871\"/>\r\n",
       "</g>\r\n",
       "<!-- 51 -->\r\n",
       "<g id=\"node52\" class=\"node\"><title>51</title>\r\n",
       "<path fill=\"#e58139\" stroke=\"black\" d=\"M1197.5,-669.5C1197.5,-669.5 1121.5,-669.5 1121.5,-669.5 1115.5,-669.5 1109.5,-663.5 1109.5,-657.5 1109.5,-657.5 1109.5,-628.5 1109.5,-628.5 1109.5,-622.5 1115.5,-616.5 1121.5,-616.5 1121.5,-616.5 1197.5,-616.5 1197.5,-616.5 1203.5,-616.5 1209.5,-622.5 1209.5,-628.5 1209.5,-628.5 1209.5,-657.5 1209.5,-657.5 1209.5,-663.5 1203.5,-669.5 1197.5,-669.5\"/>\r\n",
       "<text text-anchor=\"middle\" x=\"1159.5\" y=\"-654.3\" font-family=\"Helvetica,sans-Serif\" font-size=\"14.00\">entropy = 0.0</text>\r\n",
       "<text text-anchor=\"middle\" x=\"1159.5\" y=\"-639.3\" font-family=\"Helvetica,sans-Serif\" font-size=\"14.00\">samples = 2</text>\r\n",
       "<text text-anchor=\"middle\" x=\"1159.5\" y=\"-624.3\" font-family=\"Helvetica,sans-Serif\" font-size=\"14.00\">value = [2, 0]</text>\r\n",
       "</g>\r\n",
       "<!-- 43&#45;&gt;51 -->\r\n",
       "<g id=\"edge51\" class=\"edge\"><title>43&#45;&gt;51</title>\r\n",
       "<path fill=\"none\" stroke=\"black\" d=\"M1159.5,-712.884C1159.5,-702.326 1159.5,-690.597 1159.5,-679.854\"/>\r\n",
       "<polygon fill=\"black\" stroke=\"black\" points=\"1163,-679.52 1159.5,-669.52 1156,-679.52 1163,-679.52\"/>\r\n",
       "</g>\r\n",
       "<!-- 45 -->\r\n",
       "<g id=\"node46\" class=\"node\"><title>45</title>\r\n",
       "<path fill=\"#6ab6ec\" stroke=\"black\" d=\"M1014.5,-573C1014.5,-573 922.5,-573 922.5,-573 916.5,-573 910.5,-567 910.5,-561 910.5,-561 910.5,-517 910.5,-517 910.5,-511 916.5,-505 922.5,-505 922.5,-505 1014.5,-505 1014.5,-505 1020.5,-505 1026.5,-511 1026.5,-517 1026.5,-517 1026.5,-561 1026.5,-561 1026.5,-567 1020.5,-573 1014.5,-573\"/>\r\n",
       "<text text-anchor=\"middle\" x=\"968.5\" y=\"-557.8\" font-family=\"Helvetica,sans-Serif\" font-size=\"14.00\">X[0] &lt;= 0.0</text>\r\n",
       "<text text-anchor=\"middle\" x=\"968.5\" y=\"-542.8\" font-family=\"Helvetica,sans-Serif\" font-size=\"14.00\">entropy = 0.722</text>\r\n",
       "<text text-anchor=\"middle\" x=\"968.5\" y=\"-527.8\" font-family=\"Helvetica,sans-Serif\" font-size=\"14.00\">samples = 5</text>\r\n",
       "<text text-anchor=\"middle\" x=\"968.5\" y=\"-512.8\" font-family=\"Helvetica,sans-Serif\" font-size=\"14.00\">value = [1, 4]</text>\r\n",
       "</g>\r\n",
       "<!-- 44&#45;&gt;45 -->\r\n",
       "<g id=\"edge45\" class=\"edge\"><title>44&#45;&gt;45</title>\r\n",
       "<path fill=\"none\" stroke=\"black\" d=\"M1012.4,-608.884C1006.89,-600.243 1000.88,-590.819 995.133,-581.793\"/>\r\n",
       "<polygon fill=\"black\" stroke=\"black\" points=\"998.046,-579.852 989.72,-573.299 992.143,-583.614 998.046,-579.852\"/>\r\n",
       "</g>\r\n",
       "<!-- 50 -->\r\n",
       "<g id=\"node51\" class=\"node\"><title>50</title>\r\n",
       "<path fill=\"#e58139\" stroke=\"black\" d=\"M1132.5,-565.5C1132.5,-565.5 1056.5,-565.5 1056.5,-565.5 1050.5,-565.5 1044.5,-559.5 1044.5,-553.5 1044.5,-553.5 1044.5,-524.5 1044.5,-524.5 1044.5,-518.5 1050.5,-512.5 1056.5,-512.5 1056.5,-512.5 1132.5,-512.5 1132.5,-512.5 1138.5,-512.5 1144.5,-518.5 1144.5,-524.5 1144.5,-524.5 1144.5,-553.5 1144.5,-553.5 1144.5,-559.5 1138.5,-565.5 1132.5,-565.5\"/>\r\n",
       "<text text-anchor=\"middle\" x=\"1094.5\" y=\"-550.3\" font-family=\"Helvetica,sans-Serif\" font-size=\"14.00\">entropy = 0.0</text>\r\n",
       "<text text-anchor=\"middle\" x=\"1094.5\" y=\"-535.3\" font-family=\"Helvetica,sans-Serif\" font-size=\"14.00\">samples = 1</text>\r\n",
       "<text text-anchor=\"middle\" x=\"1094.5\" y=\"-520.3\" font-family=\"Helvetica,sans-Serif\" font-size=\"14.00\">value = [1, 0]</text>\r\n",
       "</g>\r\n",
       "<!-- 44&#45;&gt;50 -->\r\n",
       "<g id=\"edge50\" class=\"edge\"><title>44&#45;&gt;50</title>\r\n",
       "<path fill=\"none\" stroke=\"black\" d=\"M1053.3,-608.884C1059.95,-597.776 1067.37,-585.372 1074.06,-574.184\"/>\r\n",
       "<polygon fill=\"black\" stroke=\"black\" points=\"1077.11,-575.899 1079.24,-565.52 1071.1,-572.306 1077.11,-575.899\"/>\r\n",
       "</g>\r\n",
       "<!-- 46 -->\r\n",
       "<g id=\"node47\" class=\"node\"><title>46</title>\r\n",
       "<path fill=\"#ffffff\" stroke=\"black\" d=\"M892,-469C892,-469 813,-469 813,-469 807,-469 801,-463 801,-457 801,-457 801,-413 801,-413 801,-407 807,-401 813,-401 813,-401 892,-401 892,-401 898,-401 904,-407 904,-413 904,-413 904,-457 904,-457 904,-463 898,-469 892,-469\"/>\r\n",
       "<text text-anchor=\"middle\" x=\"852.5\" y=\"-453.8\" font-family=\"Helvetica,sans-Serif\" font-size=\"14.00\">X[7] &lt;= 1.163</text>\r\n",
       "<text text-anchor=\"middle\" x=\"852.5\" y=\"-438.8\" font-family=\"Helvetica,sans-Serif\" font-size=\"14.00\">entropy = 1.0</text>\r\n",
       "<text text-anchor=\"middle\" x=\"852.5\" y=\"-423.8\" font-family=\"Helvetica,sans-Serif\" font-size=\"14.00\">samples = 2</text>\r\n",
       "<text text-anchor=\"middle\" x=\"852.5\" y=\"-408.8\" font-family=\"Helvetica,sans-Serif\" font-size=\"14.00\">value = [1, 1]</text>\r\n",
       "</g>\r\n",
       "<!-- 45&#45;&gt;46 -->\r\n",
       "<g id=\"edge46\" class=\"edge\"><title>45&#45;&gt;46</title>\r\n",
       "<path fill=\"none\" stroke=\"black\" d=\"M930.838,-504.884C920.404,-495.709 908.965,-485.65 898.13,-476.123\"/>\r\n",
       "<polygon fill=\"black\" stroke=\"black\" points=\"900.191,-473.274 890.37,-469.299 895.568,-478.531 900.191,-473.274\"/>\r\n",
       "</g>\r\n",
       "<!-- 49 -->\r\n",
       "<g id=\"node50\" class=\"node\"><title>49</title>\r\n",
       "<path fill=\"#399de5\" stroke=\"black\" d=\"M1010.5,-461.5C1010.5,-461.5 934.5,-461.5 934.5,-461.5 928.5,-461.5 922.5,-455.5 922.5,-449.5 922.5,-449.5 922.5,-420.5 922.5,-420.5 922.5,-414.5 928.5,-408.5 934.5,-408.5 934.5,-408.5 1010.5,-408.5 1010.5,-408.5 1016.5,-408.5 1022.5,-414.5 1022.5,-420.5 1022.5,-420.5 1022.5,-449.5 1022.5,-449.5 1022.5,-455.5 1016.5,-461.5 1010.5,-461.5\"/>\r\n",
       "<text text-anchor=\"middle\" x=\"972.5\" y=\"-446.3\" font-family=\"Helvetica,sans-Serif\" font-size=\"14.00\">entropy = 0.0</text>\r\n",
       "<text text-anchor=\"middle\" x=\"972.5\" y=\"-431.3\" font-family=\"Helvetica,sans-Serif\" font-size=\"14.00\">samples = 3</text>\r\n",
       "<text text-anchor=\"middle\" x=\"972.5\" y=\"-416.3\" font-family=\"Helvetica,sans-Serif\" font-size=\"14.00\">value = [0, 3]</text>\r\n",
       "</g>\r\n",
       "<!-- 45&#45;&gt;49 -->\r\n",
       "<g id=\"edge49\" class=\"edge\"><title>45&#45;&gt;49</title>\r\n",
       "<path fill=\"none\" stroke=\"black\" d=\"M969.799,-504.884C970.217,-494.216 970.682,-482.352 971.107,-471.519\"/>\r\n",
       "<polygon fill=\"black\" stroke=\"black\" points=\"974.605,-471.649 971.499,-461.52 967.61,-471.375 974.605,-471.649\"/>\r\n",
       "</g>\r\n",
       "<!-- 47 -->\r\n",
       "<g id=\"node48\" class=\"node\"><title>47</title>\r\n",
       "<path fill=\"#399de5\" stroke=\"black\" d=\"M854.5,-357.5C854.5,-357.5 778.5,-357.5 778.5,-357.5 772.5,-357.5 766.5,-351.5 766.5,-345.5 766.5,-345.5 766.5,-316.5 766.5,-316.5 766.5,-310.5 772.5,-304.5 778.5,-304.5 778.5,-304.5 854.5,-304.5 854.5,-304.5 860.5,-304.5 866.5,-310.5 866.5,-316.5 866.5,-316.5 866.5,-345.5 866.5,-345.5 866.5,-351.5 860.5,-357.5 854.5,-357.5\"/>\r\n",
       "<text text-anchor=\"middle\" x=\"816.5\" y=\"-342.3\" font-family=\"Helvetica,sans-Serif\" font-size=\"14.00\">entropy = 0.0</text>\r\n",
       "<text text-anchor=\"middle\" x=\"816.5\" y=\"-327.3\" font-family=\"Helvetica,sans-Serif\" font-size=\"14.00\">samples = 1</text>\r\n",
       "<text text-anchor=\"middle\" x=\"816.5\" y=\"-312.3\" font-family=\"Helvetica,sans-Serif\" font-size=\"14.00\">value = [0, 1]</text>\r\n",
       "</g>\r\n",
       "<!-- 46&#45;&gt;47 -->\r\n",
       "<g id=\"edge47\" class=\"edge\"><title>46&#45;&gt;47</title>\r\n",
       "<path fill=\"none\" stroke=\"black\" d=\"M840.812,-400.884C837.008,-390.106 832.773,-378.108 828.918,-367.184\"/>\r\n",
       "<polygon fill=\"black\" stroke=\"black\" points=\"832.136,-365.785 825.507,-357.52 825.535,-368.115 832.136,-365.785\"/>\r\n",
       "</g>\r\n",
       "<!-- 48 -->\r\n",
       "<g id=\"node49\" class=\"node\"><title>48</title>\r\n",
       "<path fill=\"#e58139\" stroke=\"black\" d=\"M972.5,-357.5C972.5,-357.5 896.5,-357.5 896.5,-357.5 890.5,-357.5 884.5,-351.5 884.5,-345.5 884.5,-345.5 884.5,-316.5 884.5,-316.5 884.5,-310.5 890.5,-304.5 896.5,-304.5 896.5,-304.5 972.5,-304.5 972.5,-304.5 978.5,-304.5 984.5,-310.5 984.5,-316.5 984.5,-316.5 984.5,-345.5 984.5,-345.5 984.5,-351.5 978.5,-357.5 972.5,-357.5\"/>\r\n",
       "<text text-anchor=\"middle\" x=\"934.5\" y=\"-342.3\" font-family=\"Helvetica,sans-Serif\" font-size=\"14.00\">entropy = 0.0</text>\r\n",
       "<text text-anchor=\"middle\" x=\"934.5\" y=\"-327.3\" font-family=\"Helvetica,sans-Serif\" font-size=\"14.00\">samples = 1</text>\r\n",
       "<text text-anchor=\"middle\" x=\"934.5\" y=\"-312.3\" font-family=\"Helvetica,sans-Serif\" font-size=\"14.00\">value = [1, 0]</text>\r\n",
       "</g>\r\n",
       "<!-- 46&#45;&gt;48 -->\r\n",
       "<g id=\"edge48\" class=\"edge\"><title>46&#45;&gt;48</title>\r\n",
       "<path fill=\"none\" stroke=\"black\" d=\"M879.123,-400.884C888.23,-389.556 898.42,-376.88 907.552,-365.521\"/>\r\n",
       "<polygon fill=\"black\" stroke=\"black\" points=\"910.446,-367.507 913.984,-357.52 904.991,-363.121 910.446,-367.507\"/>\r\n",
       "</g>\r\n",
       "<!-- 53 -->\r\n",
       "<g id=\"node54\" class=\"node\"><title>53</title>\r\n",
       "<path fill=\"#7bbeee\" stroke=\"black\" d=\"M1331.5,-677C1331.5,-677 1239.5,-677 1239.5,-677 1233.5,-677 1227.5,-671 1227.5,-665 1227.5,-665 1227.5,-621 1227.5,-621 1227.5,-615 1233.5,-609 1239.5,-609 1239.5,-609 1331.5,-609 1331.5,-609 1337.5,-609 1343.5,-615 1343.5,-621 1343.5,-621 1343.5,-665 1343.5,-665 1343.5,-671 1337.5,-677 1331.5,-677\"/>\r\n",
       "<text text-anchor=\"middle\" x=\"1285.5\" y=\"-661.8\" font-family=\"Helvetica,sans-Serif\" font-size=\"14.00\">X[5] &lt;= 0.318</text>\r\n",
       "<text text-anchor=\"middle\" x=\"1285.5\" y=\"-646.8\" font-family=\"Helvetica,sans-Serif\" font-size=\"14.00\">entropy = 0.811</text>\r\n",
       "<text text-anchor=\"middle\" x=\"1285.5\" y=\"-631.8\" font-family=\"Helvetica,sans-Serif\" font-size=\"14.00\">samples = 4</text>\r\n",
       "<text text-anchor=\"middle\" x=\"1285.5\" y=\"-616.8\" font-family=\"Helvetica,sans-Serif\" font-size=\"14.00\">value = [1, 3]</text>\r\n",
       "</g>\r\n",
       "<!-- 52&#45;&gt;53 -->\r\n",
       "<g id=\"edge53\" class=\"edge\"><title>52&#45;&gt;53</title>\r\n",
       "<path fill=\"none\" stroke=\"black\" d=\"M1285.5,-712.884C1285.5,-704.778 1285.5,-695.982 1285.5,-687.472\"/>\r\n",
       "<polygon fill=\"black\" stroke=\"black\" points=\"1289,-687.299 1285.5,-677.299 1282,-687.299 1289,-687.299\"/>\r\n",
       "</g>\r\n",
       "<!-- 56 -->\r\n",
       "<g id=\"node57\" class=\"node\"><title>56</title>\r\n",
       "<path fill=\"#399de5\" stroke=\"black\" d=\"M1455,-669.5C1455,-669.5 1374,-669.5 1374,-669.5 1368,-669.5 1362,-663.5 1362,-657.5 1362,-657.5 1362,-628.5 1362,-628.5 1362,-622.5 1368,-616.5 1374,-616.5 1374,-616.5 1455,-616.5 1455,-616.5 1461,-616.5 1467,-622.5 1467,-628.5 1467,-628.5 1467,-657.5 1467,-657.5 1467,-663.5 1461,-669.5 1455,-669.5\"/>\r\n",
       "<text text-anchor=\"middle\" x=\"1414.5\" y=\"-654.3\" font-family=\"Helvetica,sans-Serif\" font-size=\"14.00\">entropy = 0.0</text>\r\n",
       "<text text-anchor=\"middle\" x=\"1414.5\" y=\"-639.3\" font-family=\"Helvetica,sans-Serif\" font-size=\"14.00\">samples = 14</text>\r\n",
       "<text text-anchor=\"middle\" x=\"1414.5\" y=\"-624.3\" font-family=\"Helvetica,sans-Serif\" font-size=\"14.00\">value = [0, 14]</text>\r\n",
       "</g>\r\n",
       "<!-- 52&#45;&gt;56 -->\r\n",
       "<g id=\"edge56\" class=\"edge\"><title>52&#45;&gt;56</title>\r\n",
       "<path fill=\"none\" stroke=\"black\" d=\"M1327.38,-712.884C1342.4,-701.006 1359.3,-687.646 1374.19,-675.876\"/>\r\n",
       "<polygon fill=\"black\" stroke=\"black\" points=\"1376.55,-678.468 1382.22,-669.52 1372.21,-672.977 1376.55,-678.468\"/>\r\n",
       "</g>\r\n",
       "<!-- 54 -->\r\n",
       "<g id=\"node55\" class=\"node\"><title>54</title>\r\n",
       "<path fill=\"#e58139\" stroke=\"black\" d=\"M1264.5,-565.5C1264.5,-565.5 1188.5,-565.5 1188.5,-565.5 1182.5,-565.5 1176.5,-559.5 1176.5,-553.5 1176.5,-553.5 1176.5,-524.5 1176.5,-524.5 1176.5,-518.5 1182.5,-512.5 1188.5,-512.5 1188.5,-512.5 1264.5,-512.5 1264.5,-512.5 1270.5,-512.5 1276.5,-518.5 1276.5,-524.5 1276.5,-524.5 1276.5,-553.5 1276.5,-553.5 1276.5,-559.5 1270.5,-565.5 1264.5,-565.5\"/>\r\n",
       "<text text-anchor=\"middle\" x=\"1226.5\" y=\"-550.3\" font-family=\"Helvetica,sans-Serif\" font-size=\"14.00\">entropy = 0.0</text>\r\n",
       "<text text-anchor=\"middle\" x=\"1226.5\" y=\"-535.3\" font-family=\"Helvetica,sans-Serif\" font-size=\"14.00\">samples = 1</text>\r\n",
       "<text text-anchor=\"middle\" x=\"1226.5\" y=\"-520.3\" font-family=\"Helvetica,sans-Serif\" font-size=\"14.00\">value = [1, 0]</text>\r\n",
       "</g>\r\n",
       "<!-- 53&#45;&gt;54 -->\r\n",
       "<g id=\"edge54\" class=\"edge\"><title>53&#45;&gt;54</title>\r\n",
       "<path fill=\"none\" stroke=\"black\" d=\"M1266.34,-608.884C1259.92,-597.776 1252.74,-585.372 1246.27,-574.184\"/>\r\n",
       "<polygon fill=\"black\" stroke=\"black\" points=\"1249.3,-572.424 1241.26,-565.52 1243.24,-575.929 1249.3,-572.424\"/>\r\n",
       "</g>\r\n",
       "<!-- 55 -->\r\n",
       "<g id=\"node56\" class=\"node\"><title>55</title>\r\n",
       "<path fill=\"#399de5\" stroke=\"black\" d=\"M1382.5,-565.5C1382.5,-565.5 1306.5,-565.5 1306.5,-565.5 1300.5,-565.5 1294.5,-559.5 1294.5,-553.5 1294.5,-553.5 1294.5,-524.5 1294.5,-524.5 1294.5,-518.5 1300.5,-512.5 1306.5,-512.5 1306.5,-512.5 1382.5,-512.5 1382.5,-512.5 1388.5,-512.5 1394.5,-518.5 1394.5,-524.5 1394.5,-524.5 1394.5,-553.5 1394.5,-553.5 1394.5,-559.5 1388.5,-565.5 1382.5,-565.5\"/>\r\n",
       "<text text-anchor=\"middle\" x=\"1344.5\" y=\"-550.3\" font-family=\"Helvetica,sans-Serif\" font-size=\"14.00\">entropy = 0.0</text>\r\n",
       "<text text-anchor=\"middle\" x=\"1344.5\" y=\"-535.3\" font-family=\"Helvetica,sans-Serif\" font-size=\"14.00\">samples = 3</text>\r\n",
       "<text text-anchor=\"middle\" x=\"1344.5\" y=\"-520.3\" font-family=\"Helvetica,sans-Serif\" font-size=\"14.00\">value = [0, 3]</text>\r\n",
       "</g>\r\n",
       "<!-- 53&#45;&gt;55 -->\r\n",
       "<g id=\"edge55\" class=\"edge\"><title>53&#45;&gt;55</title>\r\n",
       "<path fill=\"none\" stroke=\"black\" d=\"M1304.66,-608.884C1311.08,-597.776 1318.26,-585.372 1324.73,-574.184\"/>\r\n",
       "<polygon fill=\"black\" stroke=\"black\" points=\"1327.76,-575.929 1329.74,-565.52 1321.7,-572.424 1327.76,-575.929\"/>\r\n",
       "</g>\r\n",
       "</g>\r\n",
       "</svg>\r\n"
      ],
      "text/plain": [
       "<graphviz.files.Source at 0x1e57ff9d0a0>"
      ]
     },
     "execution_count": 39,
     "metadata": {},
     "output_type": "execute_result"
    }
   ],
   "source": [
    "from sklearn.tree import export_graphviz, plot_tree\n",
    "import graphviz\n",
    "\n",
    "graphviz.Source(export_graphviz(dt,filled=True, rounded=True))"
   ]
  },
  {
   "cell_type": "markdown",
   "metadata": {
    "colab_type": "text",
    "id": "pS1Q-n_A7iZ_"
   },
   "source": [
    "## Random Forest Model"
   ]
  },
  {
   "cell_type": "code",
   "execution_count": 40,
   "metadata": {},
   "outputs": [
    {
     "data": {
      "text/plain": [
       "RandomForestClassifier(criterion='entropy', n_estimators=10, random_state=192)"
      ]
     },
     "execution_count": 40,
     "metadata": {},
     "output_type": "execute_result"
    }
   ],
   "source": [
    "from sklearn.ensemble import RandomForestClassifier\n",
    "\n",
    "rf = RandomForestClassifier(n_estimators = 10, criterion = 'entropy', random_state = 192)\n",
    "rf.fit(X_train, y_train)"
   ]
  },
  {
   "cell_type": "markdown",
   "metadata": {
    "colab_type": "text",
    "id": "4cgD7EnB8Dnd"
   },
   "source": [
    "## Random Forest Prediction"
   ]
  },
  {
   "cell_type": "code",
   "execution_count": 41,
   "metadata": {},
   "outputs": [
    {
     "name": "stdout",
     "output_type": "stream",
     "text": [
      "First 10 Actual vs. Predicted:\n",
      "\n",
      "Observation # \t Actual \t Predicted\n",
      "1 \t\t 4 \t\t 4\n",
      "2 \t\t 2 \t\t 2\n",
      "3 \t\t 2 \t\t 2\n",
      "4 \t\t 4 \t\t 2\n",
      "5 \t\t 2 \t\t 2\n",
      "6 \t\t 2 \t\t 2\n",
      "7 \t\t 2 \t\t 2\n",
      "8 \t\t 2 \t\t 2\n",
      "9 \t\t 2 \t\t 2\n",
      "10 \t\t 2 \t\t 2\n"
     ]
    }
   ],
   "source": [
    "Predict(rf, X_test, y_test)"
   ]
  },
  {
   "cell_type": "markdown",
   "metadata": {
    "colab_type": "text",
    "id": "26CHkZbs8Tu5"
   },
   "source": [
    "## Random Forest Confusion Matrix"
   ]
  },
  {
   "cell_type": "code",
   "execution_count": 42,
   "metadata": {},
   "outputs": [
    {
     "name": "stdout",
     "output_type": "stream",
     "text": [
      "\n",
      "    Confusion Matrix\n",
      "             Predicted 0 Predicted 1\n",
      "    Actual 0     97          1\n",
      "    Actual 1     5          37\n",
      "    \n",
      "R-squared: 95.71%\n",
      "Number of false positives: 1\n",
      "Number of false positives: 5\n"
     ]
    }
   ],
   "source": [
    "ConfusionMatrixAndAccuracy(y_test)"
   ]
  },
  {
   "cell_type": "markdown",
   "metadata": {},
   "source": [
    "Therefore, we found that the R-squared values of the following classification models are:\n",
    "\n",
    "Logistic Regression: *96.43%*\n",
    "\n",
    "K-Nearest Neighbors (K-NN): ***97.14%***\n",
    "\n",
    "Support Vector Machine (SVM): ***97.14%***\n",
    "\n",
    "Kernel Support Vector Machine (Kernal SVM): ***97.14%***\n",
    "\n",
    "Naive Bayes: *95.71%*\n",
    "\n",
    "Decision Tree: *92.86%*\n",
    "\n",
    "Random Forest: *95.71%*"
   ]
  },
  {
   "cell_type": "markdown",
   "metadata": {},
   "source": [
    "Therefore, the K-Nearest Neighbors (K-NN), Support Vector Machine (SVM), and Kernal SVM were the best, yielding the accuracy of 97.14%"
   ]
  }
 ],
 "metadata": {
  "colab": {
   "name": "Logistic Regression",
   "provenance": []
  },
  "hide_input": false,
  "kernelspec": {
   "display_name": "Python 3",
   "language": "python",
   "name": "python3"
  },
  "language_info": {
   "codemirror_mode": {
    "name": "ipython",
    "version": 3
   },
   "file_extension": ".py",
   "mimetype": "text/x-python",
   "name": "python",
   "nbconvert_exporter": "python",
   "pygments_lexer": "ipython3",
   "version": "3.9.6"
  },
  "nbTranslate": {
   "displayLangs": [
    "*"
   ],
   "hotkey": "alt-t",
   "langInMainMenu": true,
   "sourceLang": "en",
   "targetLang": "fr",
   "useGoogleTranslate": true
  },
  "toc": {
   "base_numbering": 1,
   "nav_menu": {},
   "number_sections": true,
   "sideBar": true,
   "skip_h1_title": false,
   "title_cell": "Table of Contents",
   "title_sidebar": "Contents",
   "toc_cell": false,
   "toc_position": {},
   "toc_section_display": true,
   "toc_window_display": false
  },
  "varInspector": {
   "cols": {
    "lenName": 16,
    "lenType": 16,
    "lenVar": 40
   },
   "kernels_config": {
    "python": {
     "delete_cmd_postfix": "",
     "delete_cmd_prefix": "del ",
     "library": "var_list.py",
     "varRefreshCmd": "print(var_dic_list())"
    },
    "r": {
     "delete_cmd_postfix": ") ",
     "delete_cmd_prefix": "rm(",
     "library": "var_list.r",
     "varRefreshCmd": "cat(var_dic_list()) "
    }
   },
   "types_to_exclude": [
    "module",
    "function",
    "builtin_function_or_method",
    "instance",
    "_Feature"
   ],
   "window_display": false
  }
 },
 "nbformat": 4,
 "nbformat_minor": 1
}
